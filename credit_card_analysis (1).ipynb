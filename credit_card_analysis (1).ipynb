{
 "cells": [
  {
   "cell_type": "markdown",
   "id": "79c4fca2",
   "metadata": {},
   "source": [
    "# PROJECT\n",
    "\n",
    "# Improving new credit card/loan applications approval process using Machine Learning"
   ]
  },
  {
   "cell_type": "markdown",
   "id": "dacb90be",
   "metadata": {},
   "source": [
    "## Introduction"
   ]
  },
  {
   "cell_type": "markdown",
   "id": "63dbdb99",
   "metadata": {},
   "source": [
    "Machine Learning, ML is becoming an integral part of all modern organization.\n",
    "In the finance setor, ML can be used to detect fraud, automate approval processes and trading activities, and provide financial advisory services to investors.\n",
    "\n",
    "## Objectives of the Project\n",
    "1. Automate approval process of new credit cards/loan applications\n",
    "2. Provide web-based application interface for our customers\n",
    "3. Provide instant feedback to customers\n",
    "4. Collect new data for future system improvements"
   ]
  },
  {
   "cell_type": "markdown",
   "id": "24773aa6",
   "metadata": {},
   "source": [
    "## Data Source\n",
    "### Project uses an open-source dataset from Kaggle found on the link below\n",
    "https://www.kaggle.com/rikdifos/credit-card-approval-prediction/tasks?taskId=1416"
   ]
  },
  {
   "cell_type": "markdown",
   "id": "f1d94972",
   "metadata": {},
   "source": [
    "# Table of Contents\n",
    "* Section 1: [Data Import](#data_import)\n",
    "* Section 2: [Data Exploration](#data_exploration)\n",
    "* Section 3: [Data Cleaning](#data_cleaning)\n",
    "* Section 4: [Data Analysis](#data_analysis)\n",
    "* Section 5: [First ML Model](#first_model)\n",
    "* Section 6: [Data Visualization](#data_visualization)\n",
    "* Section 7: [Records Data](#records_data)\n",
    "* Section 8: [Eligibility ML Model](#eligibility_ml)\n",
    "* Section 9: [Saving Model and Transformer](#model_tx)"
   ]
  },
  {
   "cell_type": "code",
   "execution_count": 1,
   "id": "ac2b06ab",
   "metadata": {},
   "outputs": [
    {
     "name": "stderr",
     "output_type": "stream",
     "text": [
      "C:\\Users\\KIMERA\\.conda\\envs\\data_engineering\\lib\\site-packages\\xgboost\\compat.py:36: FutureWarning: pandas.Int64Index is deprecated and will be removed from pandas in a future version. Use pandas.Index with the appropriate dtype instead.\n",
      "  from pandas import MultiIndex, Int64Index\n"
     ]
    }
   ],
   "source": [
    "# import the required libraries and modules\n",
    "import pandas as pd\n",
    "import numpy as np\n",
    "import seaborn as sns\n",
    "%matplotlib inline\n",
    "import matplotlib.pyplot as plt\n",
    "import xgboost as xgb\n",
    "from xgboost import XGBClassifier\n",
    "from imblearn.over_sampling import SMOTE\n",
    "from sklearn.metrics import precision_score,accuracy_score,recall_score,f1_score,r2_score\n",
    "from sklearn.metrics import confusion_matrix,plot_confusion_matrix"
   ]
  },
  {
   "cell_type": "markdown",
   "id": "812e7d3e",
   "metadata": {},
   "source": [
    "## <a name=\"data_import\"> </a> Data Import"
   ]
  },
  {
   "cell_type": "code",
   "execution_count": 2,
   "id": "778fe721",
   "metadata": {},
   "outputs": [
    {
     "data": {
      "text/html": [
       "<div>\n",
       "<style scoped>\n",
       "    .dataframe tbody tr th:only-of-type {\n",
       "        vertical-align: middle;\n",
       "    }\n",
       "\n",
       "    .dataframe tbody tr th {\n",
       "        vertical-align: top;\n",
       "    }\n",
       "\n",
       "    .dataframe thead th {\n",
       "        text-align: right;\n",
       "    }\n",
       "</style>\n",
       "<table border=\"1\" class=\"dataframe\">\n",
       "  <thead>\n",
       "    <tr style=\"text-align: right;\">\n",
       "      <th></th>\n",
       "      <th>ID</th>\n",
       "      <th>CODE_GENDER</th>\n",
       "      <th>FLAG_OWN_CAR</th>\n",
       "      <th>FLAG_OWN_REALTY</th>\n",
       "      <th>CNT_CHILDREN</th>\n",
       "      <th>AMT_INCOME_TOTAL</th>\n",
       "      <th>NAME_INCOME_TYPE</th>\n",
       "      <th>NAME_EDUCATION_TYPE</th>\n",
       "      <th>NAME_FAMILY_STATUS</th>\n",
       "      <th>NAME_HOUSING_TYPE</th>\n",
       "      <th>DAYS_BIRTH</th>\n",
       "      <th>DAYS_EMPLOYED</th>\n",
       "      <th>FLAG_MOBIL</th>\n",
       "      <th>FLAG_WORK_PHONE</th>\n",
       "      <th>FLAG_PHONE</th>\n",
       "      <th>FLAG_EMAIL</th>\n",
       "      <th>OCCUPATION_TYPE</th>\n",
       "      <th>CNT_FAM_MEMBERS</th>\n",
       "    </tr>\n",
       "  </thead>\n",
       "  <tbody>\n",
       "    <tr>\n",
       "      <th>0</th>\n",
       "      <td>5008804</td>\n",
       "      <td>M</td>\n",
       "      <td>Y</td>\n",
       "      <td>Y</td>\n",
       "      <td>0</td>\n",
       "      <td>427500.0</td>\n",
       "      <td>Working</td>\n",
       "      <td>Higher education</td>\n",
       "      <td>Civil marriage</td>\n",
       "      <td>Rented apartment</td>\n",
       "      <td>-12005</td>\n",
       "      <td>-4542</td>\n",
       "      <td>1</td>\n",
       "      <td>1</td>\n",
       "      <td>0</td>\n",
       "      <td>0</td>\n",
       "      <td>NaN</td>\n",
       "      <td>2.0</td>\n",
       "    </tr>\n",
       "    <tr>\n",
       "      <th>1</th>\n",
       "      <td>5008805</td>\n",
       "      <td>M</td>\n",
       "      <td>Y</td>\n",
       "      <td>Y</td>\n",
       "      <td>0</td>\n",
       "      <td>427500.0</td>\n",
       "      <td>Working</td>\n",
       "      <td>Higher education</td>\n",
       "      <td>Civil marriage</td>\n",
       "      <td>Rented apartment</td>\n",
       "      <td>-12005</td>\n",
       "      <td>-4542</td>\n",
       "      <td>1</td>\n",
       "      <td>1</td>\n",
       "      <td>0</td>\n",
       "      <td>0</td>\n",
       "      <td>NaN</td>\n",
       "      <td>2.0</td>\n",
       "    </tr>\n",
       "    <tr>\n",
       "      <th>2</th>\n",
       "      <td>5008806</td>\n",
       "      <td>M</td>\n",
       "      <td>Y</td>\n",
       "      <td>Y</td>\n",
       "      <td>0</td>\n",
       "      <td>112500.0</td>\n",
       "      <td>Working</td>\n",
       "      <td>Secondary / secondary special</td>\n",
       "      <td>Married</td>\n",
       "      <td>House / apartment</td>\n",
       "      <td>-21474</td>\n",
       "      <td>-1134</td>\n",
       "      <td>1</td>\n",
       "      <td>0</td>\n",
       "      <td>0</td>\n",
       "      <td>0</td>\n",
       "      <td>Security staff</td>\n",
       "      <td>2.0</td>\n",
       "    </tr>\n",
       "    <tr>\n",
       "      <th>3</th>\n",
       "      <td>5008808</td>\n",
       "      <td>F</td>\n",
       "      <td>N</td>\n",
       "      <td>Y</td>\n",
       "      <td>0</td>\n",
       "      <td>270000.0</td>\n",
       "      <td>Commercial associate</td>\n",
       "      <td>Secondary / secondary special</td>\n",
       "      <td>Single / not married</td>\n",
       "      <td>House / apartment</td>\n",
       "      <td>-19110</td>\n",
       "      <td>-3051</td>\n",
       "      <td>1</td>\n",
       "      <td>0</td>\n",
       "      <td>1</td>\n",
       "      <td>1</td>\n",
       "      <td>Sales staff</td>\n",
       "      <td>1.0</td>\n",
       "    </tr>\n",
       "    <tr>\n",
       "      <th>4</th>\n",
       "      <td>5008809</td>\n",
       "      <td>F</td>\n",
       "      <td>N</td>\n",
       "      <td>Y</td>\n",
       "      <td>0</td>\n",
       "      <td>270000.0</td>\n",
       "      <td>Commercial associate</td>\n",
       "      <td>Secondary / secondary special</td>\n",
       "      <td>Single / not married</td>\n",
       "      <td>House / apartment</td>\n",
       "      <td>-19110</td>\n",
       "      <td>-3051</td>\n",
       "      <td>1</td>\n",
       "      <td>0</td>\n",
       "      <td>1</td>\n",
       "      <td>1</td>\n",
       "      <td>Sales staff</td>\n",
       "      <td>1.0</td>\n",
       "    </tr>\n",
       "  </tbody>\n",
       "</table>\n",
       "</div>"
      ],
      "text/plain": [
       "        ID CODE_GENDER FLAG_OWN_CAR FLAG_OWN_REALTY  CNT_CHILDREN  \\\n",
       "0  5008804           M            Y               Y             0   \n",
       "1  5008805           M            Y               Y             0   \n",
       "2  5008806           M            Y               Y             0   \n",
       "3  5008808           F            N               Y             0   \n",
       "4  5008809           F            N               Y             0   \n",
       "\n",
       "   AMT_INCOME_TOTAL      NAME_INCOME_TYPE            NAME_EDUCATION_TYPE  \\\n",
       "0          427500.0               Working               Higher education   \n",
       "1          427500.0               Working               Higher education   \n",
       "2          112500.0               Working  Secondary / secondary special   \n",
       "3          270000.0  Commercial associate  Secondary / secondary special   \n",
       "4          270000.0  Commercial associate  Secondary / secondary special   \n",
       "\n",
       "     NAME_FAMILY_STATUS  NAME_HOUSING_TYPE  DAYS_BIRTH  DAYS_EMPLOYED  \\\n",
       "0        Civil marriage   Rented apartment      -12005          -4542   \n",
       "1        Civil marriage   Rented apartment      -12005          -4542   \n",
       "2               Married  House / apartment      -21474          -1134   \n",
       "3  Single / not married  House / apartment      -19110          -3051   \n",
       "4  Single / not married  House / apartment      -19110          -3051   \n",
       "\n",
       "   FLAG_MOBIL  FLAG_WORK_PHONE  FLAG_PHONE  FLAG_EMAIL OCCUPATION_TYPE  \\\n",
       "0           1                1           0           0             NaN   \n",
       "1           1                1           0           0             NaN   \n",
       "2           1                0           0           0  Security staff   \n",
       "3           1                0           1           1     Sales staff   \n",
       "4           1                0           1           1     Sales staff   \n",
       "\n",
       "   CNT_FAM_MEMBERS  \n",
       "0              2.0  \n",
       "1              2.0  \n",
       "2              2.0  \n",
       "3              1.0  \n",
       "4              1.0  "
      ]
     },
     "execution_count": 2,
     "metadata": {},
     "output_type": "execute_result"
    }
   ],
   "source": [
    "data = pd.read_csv(\"<path-to-file>\\\\application_record.csv\")\n",
    "data.head()"
   ]
  },
  {
   "cell_type": "code",
   "execution_count": 3,
   "id": "71a1140d",
   "metadata": {},
   "outputs": [
    {
     "data": {
      "text/html": [
       "<div>\n",
       "<style scoped>\n",
       "    .dataframe tbody tr th:only-of-type {\n",
       "        vertical-align: middle;\n",
       "    }\n",
       "\n",
       "    .dataframe tbody tr th {\n",
       "        vertical-align: top;\n",
       "    }\n",
       "\n",
       "    .dataframe thead th {\n",
       "        text-align: right;\n",
       "    }\n",
       "</style>\n",
       "<table border=\"1\" class=\"dataframe\">\n",
       "  <thead>\n",
       "    <tr style=\"text-align: right;\">\n",
       "      <th></th>\n",
       "      <th>id</th>\n",
       "      <th>code_gender</th>\n",
       "      <th>flag_own_car</th>\n",
       "      <th>flag_own_realty</th>\n",
       "      <th>cnt_children</th>\n",
       "      <th>amt_income_total</th>\n",
       "      <th>name_income_type</th>\n",
       "      <th>name_education_type</th>\n",
       "      <th>name_family_status</th>\n",
       "      <th>name_housing_type</th>\n",
       "      <th>days_birth</th>\n",
       "      <th>days_employed</th>\n",
       "      <th>flag_mobil</th>\n",
       "      <th>flag_work_phone</th>\n",
       "      <th>flag_phone</th>\n",
       "      <th>flag_email</th>\n",
       "      <th>occupation_type</th>\n",
       "      <th>cnt_fam_members</th>\n",
       "    </tr>\n",
       "  </thead>\n",
       "  <tbody>\n",
       "    <tr>\n",
       "      <th>0</th>\n",
       "      <td>5008804</td>\n",
       "      <td>M</td>\n",
       "      <td>Y</td>\n",
       "      <td>Y</td>\n",
       "      <td>0</td>\n",
       "      <td>427500.0</td>\n",
       "      <td>Working</td>\n",
       "      <td>Higher education</td>\n",
       "      <td>Civil marriage</td>\n",
       "      <td>Rented apartment</td>\n",
       "      <td>-12005</td>\n",
       "      <td>-4542</td>\n",
       "      <td>1</td>\n",
       "      <td>1</td>\n",
       "      <td>0</td>\n",
       "      <td>0</td>\n",
       "      <td>NaN</td>\n",
       "      <td>2.0</td>\n",
       "    </tr>\n",
       "    <tr>\n",
       "      <th>1</th>\n",
       "      <td>5008805</td>\n",
       "      <td>M</td>\n",
       "      <td>Y</td>\n",
       "      <td>Y</td>\n",
       "      <td>0</td>\n",
       "      <td>427500.0</td>\n",
       "      <td>Working</td>\n",
       "      <td>Higher education</td>\n",
       "      <td>Civil marriage</td>\n",
       "      <td>Rented apartment</td>\n",
       "      <td>-12005</td>\n",
       "      <td>-4542</td>\n",
       "      <td>1</td>\n",
       "      <td>1</td>\n",
       "      <td>0</td>\n",
       "      <td>0</td>\n",
       "      <td>NaN</td>\n",
       "      <td>2.0</td>\n",
       "    </tr>\n",
       "    <tr>\n",
       "      <th>2</th>\n",
       "      <td>5008806</td>\n",
       "      <td>M</td>\n",
       "      <td>Y</td>\n",
       "      <td>Y</td>\n",
       "      <td>0</td>\n",
       "      <td>112500.0</td>\n",
       "      <td>Working</td>\n",
       "      <td>Secondary / secondary special</td>\n",
       "      <td>Married</td>\n",
       "      <td>House / apartment</td>\n",
       "      <td>-21474</td>\n",
       "      <td>-1134</td>\n",
       "      <td>1</td>\n",
       "      <td>0</td>\n",
       "      <td>0</td>\n",
       "      <td>0</td>\n",
       "      <td>Security staff</td>\n",
       "      <td>2.0</td>\n",
       "    </tr>\n",
       "    <tr>\n",
       "      <th>3</th>\n",
       "      <td>5008808</td>\n",
       "      <td>F</td>\n",
       "      <td>N</td>\n",
       "      <td>Y</td>\n",
       "      <td>0</td>\n",
       "      <td>270000.0</td>\n",
       "      <td>Commercial associate</td>\n",
       "      <td>Secondary / secondary special</td>\n",
       "      <td>Single / not married</td>\n",
       "      <td>House / apartment</td>\n",
       "      <td>-19110</td>\n",
       "      <td>-3051</td>\n",
       "      <td>1</td>\n",
       "      <td>0</td>\n",
       "      <td>1</td>\n",
       "      <td>1</td>\n",
       "      <td>Sales staff</td>\n",
       "      <td>1.0</td>\n",
       "    </tr>\n",
       "    <tr>\n",
       "      <th>4</th>\n",
       "      <td>5008809</td>\n",
       "      <td>F</td>\n",
       "      <td>N</td>\n",
       "      <td>Y</td>\n",
       "      <td>0</td>\n",
       "      <td>270000.0</td>\n",
       "      <td>Commercial associate</td>\n",
       "      <td>Secondary / secondary special</td>\n",
       "      <td>Single / not married</td>\n",
       "      <td>House / apartment</td>\n",
       "      <td>-19110</td>\n",
       "      <td>-3051</td>\n",
       "      <td>1</td>\n",
       "      <td>0</td>\n",
       "      <td>1</td>\n",
       "      <td>1</td>\n",
       "      <td>Sales staff</td>\n",
       "      <td>1.0</td>\n",
       "    </tr>\n",
       "  </tbody>\n",
       "</table>\n",
       "</div>"
      ],
      "text/plain": [
       "        id code_gender flag_own_car flag_own_realty  cnt_children  \\\n",
       "0  5008804           M            Y               Y             0   \n",
       "1  5008805           M            Y               Y             0   \n",
       "2  5008806           M            Y               Y             0   \n",
       "3  5008808           F            N               Y             0   \n",
       "4  5008809           F            N               Y             0   \n",
       "\n",
       "   amt_income_total      name_income_type            name_education_type  \\\n",
       "0          427500.0               Working               Higher education   \n",
       "1          427500.0               Working               Higher education   \n",
       "2          112500.0               Working  Secondary / secondary special   \n",
       "3          270000.0  Commercial associate  Secondary / secondary special   \n",
       "4          270000.0  Commercial associate  Secondary / secondary special   \n",
       "\n",
       "     name_family_status  name_housing_type  days_birth  days_employed  \\\n",
       "0        Civil marriage   Rented apartment      -12005          -4542   \n",
       "1        Civil marriage   Rented apartment      -12005          -4542   \n",
       "2               Married  House / apartment      -21474          -1134   \n",
       "3  Single / not married  House / apartment      -19110          -3051   \n",
       "4  Single / not married  House / apartment      -19110          -3051   \n",
       "\n",
       "   flag_mobil  flag_work_phone  flag_phone  flag_email occupation_type  \\\n",
       "0           1                1           0           0             NaN   \n",
       "1           1                1           0           0             NaN   \n",
       "2           1                0           0           0  Security staff   \n",
       "3           1                0           1           1     Sales staff   \n",
       "4           1                0           1           1     Sales staff   \n",
       "\n",
       "   cnt_fam_members  \n",
       "0              2.0  \n",
       "1              2.0  \n",
       "2              2.0  \n",
       "3              1.0  \n",
       "4              1.0  "
      ]
     },
     "execution_count": 3,
     "metadata": {},
     "output_type": "execute_result"
    }
   ],
   "source": [
    "# Convert all columns to lower case\n",
    "new_columns = []\n",
    "for column in data.columns:\n",
    "    new_columns.append(column.lower())\n",
    "data.columns = new_columns\n",
    "\n",
    "# Delete column list to save memory\n",
    "del new_columns\n",
    "\n",
    "data.head()"
   ]
  },
  {
   "cell_type": "markdown",
   "id": "005b6875",
   "metadata": {},
   "source": [
    "## <a name=\"data_exploration\"> </a> Data Exploration"
   ]
  },
  {
   "cell_type": "code",
   "execution_count": 4,
   "id": "d2c7c6e1",
   "metadata": {},
   "outputs": [
    {
     "data": {
      "text/plain": [
       "(438557, 18)"
      ]
     },
     "execution_count": 4,
     "metadata": {},
     "output_type": "execute_result"
    }
   ],
   "source": [
    "data.shape"
   ]
  },
  {
   "cell_type": "code",
   "execution_count": 5,
   "id": "3cf26f5d",
   "metadata": {},
   "outputs": [
    {
     "data": {
      "text/plain": [
       "id                       int64\n",
       "code_gender             object\n",
       "flag_own_car            object\n",
       "flag_own_realty         object\n",
       "cnt_children             int64\n",
       "amt_income_total       float64\n",
       "name_income_type        object\n",
       "name_education_type     object\n",
       "name_family_status      object\n",
       "name_housing_type       object\n",
       "days_birth               int64\n",
       "days_employed            int64\n",
       "flag_mobil               int64\n",
       "flag_work_phone          int64\n",
       "flag_phone               int64\n",
       "flag_email               int64\n",
       "occupation_type         object\n",
       "cnt_fam_members        float64\n",
       "dtype: object"
      ]
     },
     "execution_count": 5,
     "metadata": {},
     "output_type": "execute_result"
    }
   ],
   "source": [
    "data.dtypes"
   ]
  },
  {
   "cell_type": "markdown",
   "id": "2481f999",
   "metadata": {},
   "source": [
    "### We have int64, float64 and object data types"
   ]
  },
  {
   "cell_type": "code",
   "execution_count": 6,
   "id": "952d1b6a",
   "metadata": {},
   "outputs": [
    {
     "data": {
      "text/plain": [
       "id                     0.00000\n",
       "code_gender            0.00000\n",
       "flag_own_car           0.00000\n",
       "flag_own_realty        0.00000\n",
       "cnt_children           0.00000\n",
       "amt_income_total       0.00000\n",
       "name_income_type       0.00000\n",
       "name_education_type    0.00000\n",
       "name_family_status     0.00000\n",
       "name_housing_type      0.00000\n",
       "days_birth             0.00000\n",
       "days_employed          0.00000\n",
       "flag_mobil             0.00000\n",
       "flag_work_phone        0.00000\n",
       "flag_phone             0.00000\n",
       "flag_email             0.00000\n",
       "occupation_type        0.30601\n",
       "cnt_fam_members        0.00000\n",
       "dtype: float64"
      ]
     },
     "execution_count": 6,
     "metadata": {},
     "output_type": "execute_result"
    }
   ],
   "source": [
    "data.isna().sum()/len(data)"
   ]
  },
  {
   "cell_type": "markdown",
   "id": "cd434a12",
   "metadata": {},
   "source": [
    "#### Only one column (\"occupation_type\") has NaNs\n",
    "#### Over 30% of values in the \"occupation_type\" column are NaN"
   ]
  },
  {
   "cell_type": "markdown",
   "id": "7f4deab3",
   "metadata": {},
   "source": [
    "## <a name=\"data_cleaning\"> </a> Data cleaning"
   ]
  },
  {
   "cell_type": "code",
   "execution_count": 7,
   "id": "46356a05",
   "metadata": {},
   "outputs": [
    {
     "data": {
      "text/plain": [
       "array([nan, 'Security staff', 'Sales staff', 'Accountants', 'Laborers',\n",
       "       'Managers', 'Drivers', 'Core staff', 'High skill tech staff',\n",
       "       'Cleaning staff', 'Private service staff', 'Cooking staff',\n",
       "       'Low-skill Laborers', 'Medicine staff', 'Secretaries',\n",
       "       'Waiters/barmen staff', 'HR staff', 'Realty agents', 'IT staff'],\n",
       "      dtype=object)"
      ]
     },
     "execution_count": 7,
     "metadata": {},
     "output_type": "execute_result"
    }
   ],
   "source": [
    "# Treating the null values in the \"occupation_type\" column\n",
    "data[\"occupation_type\"].unique()"
   ]
  },
  {
   "cell_type": "code",
   "execution_count": 8,
   "id": "5d3ef09e",
   "metadata": {},
   "outputs": [
    {
     "data": {
      "text/plain": [
       "NaN                      134203\n",
       "Laborers                  78240\n",
       "Core staff                43007\n",
       "Sales staff               41098\n",
       "Managers                  35487\n",
       "Drivers                   26090\n",
       "High skill tech staff     17289\n",
       "Accountants               15985\n",
       "Medicine staff            13520\n",
       "Cooking staff              8076\n",
       "Security staff             7993\n",
       "Cleaning staff             5845\n",
       "Private service staff      3456\n",
       "Low-skill Laborers         2140\n",
       "Secretaries                2044\n",
       "Waiters/barmen staff       1665\n",
       "Realty agents              1041\n",
       "HR staff                    774\n",
       "IT staff                    604\n",
       "Name: occupation_type, dtype: int64"
      ]
     },
     "execution_count": 8,
     "metadata": {},
     "output_type": "execute_result"
    }
   ],
   "source": [
    "# Get the most common values in the \"occupation_type\" column\n",
    "data[\"occupation_type\"].value_counts(dropna=False)"
   ]
  },
  {
   "cell_type": "markdown",
   "id": "3db7ea98",
   "metadata": {},
   "source": [
    "#### There are alomost twice (1.7) as many NaNs as the next highest occupation (Laborers)\n",
    "#### We can not set the NaNs to the mode\n",
    "#### I will build a ML model to predict the occupation of a customer and fill up the NaN"
   ]
  },
  {
   "cell_type": "markdown",
   "id": "19e0d5d5",
   "metadata": {},
   "source": [
    "### Processing categorical columns\n",
    "## NOTE: We are not using label or one-hot encoder because this model is to be used for online predictions. Users supply only ove values in a column and the map method does a better job than one-hot encoder. For label encoder, I only prefered the map method because of simplicity"
   ]
  },
  {
   "cell_type": "code",
   "execution_count": 9,
   "id": "1616455d",
   "metadata": {},
   "outputs": [
    {
     "data": {
      "text/html": [
       "<div>\n",
       "<style scoped>\n",
       "    .dataframe tbody tr th:only-of-type {\n",
       "        vertical-align: middle;\n",
       "    }\n",
       "\n",
       "    .dataframe tbody tr th {\n",
       "        vertical-align: top;\n",
       "    }\n",
       "\n",
       "    .dataframe thead th {\n",
       "        text-align: right;\n",
       "    }\n",
       "</style>\n",
       "<table border=\"1\" class=\"dataframe\">\n",
       "  <thead>\n",
       "    <tr style=\"text-align: right;\">\n",
       "      <th></th>\n",
       "      <th>code_gender</th>\n",
       "      <th>flag_own_car</th>\n",
       "      <th>flag_own_realty</th>\n",
       "      <th>name_income_type</th>\n",
       "      <th>name_education_type</th>\n",
       "      <th>name_family_status</th>\n",
       "      <th>name_housing_type</th>\n",
       "      <th>occupation_type</th>\n",
       "    </tr>\n",
       "  </thead>\n",
       "  <tbody>\n",
       "    <tr>\n",
       "      <th>0</th>\n",
       "      <td>M</td>\n",
       "      <td>Y</td>\n",
       "      <td>Y</td>\n",
       "      <td>Working</td>\n",
       "      <td>Higher education</td>\n",
       "      <td>Civil marriage</td>\n",
       "      <td>Rented apartment</td>\n",
       "      <td>NaN</td>\n",
       "    </tr>\n",
       "    <tr>\n",
       "      <th>1</th>\n",
       "      <td>M</td>\n",
       "      <td>Y</td>\n",
       "      <td>Y</td>\n",
       "      <td>Working</td>\n",
       "      <td>Higher education</td>\n",
       "      <td>Civil marriage</td>\n",
       "      <td>Rented apartment</td>\n",
       "      <td>NaN</td>\n",
       "    </tr>\n",
       "    <tr>\n",
       "      <th>2</th>\n",
       "      <td>M</td>\n",
       "      <td>Y</td>\n",
       "      <td>Y</td>\n",
       "      <td>Working</td>\n",
       "      <td>Secondary / secondary special</td>\n",
       "      <td>Married</td>\n",
       "      <td>House / apartment</td>\n",
       "      <td>Security staff</td>\n",
       "    </tr>\n",
       "    <tr>\n",
       "      <th>3</th>\n",
       "      <td>F</td>\n",
       "      <td>N</td>\n",
       "      <td>Y</td>\n",
       "      <td>Commercial associate</td>\n",
       "      <td>Secondary / secondary special</td>\n",
       "      <td>Single / not married</td>\n",
       "      <td>House / apartment</td>\n",
       "      <td>Sales staff</td>\n",
       "    </tr>\n",
       "    <tr>\n",
       "      <th>4</th>\n",
       "      <td>F</td>\n",
       "      <td>N</td>\n",
       "      <td>Y</td>\n",
       "      <td>Commercial associate</td>\n",
       "      <td>Secondary / secondary special</td>\n",
       "      <td>Single / not married</td>\n",
       "      <td>House / apartment</td>\n",
       "      <td>Sales staff</td>\n",
       "    </tr>\n",
       "  </tbody>\n",
       "</table>\n",
       "</div>"
      ],
      "text/plain": [
       "  code_gender flag_own_car flag_own_realty      name_income_type  \\\n",
       "0           M            Y               Y               Working   \n",
       "1           M            Y               Y               Working   \n",
       "2           M            Y               Y               Working   \n",
       "3           F            N               Y  Commercial associate   \n",
       "4           F            N               Y  Commercial associate   \n",
       "\n",
       "             name_education_type    name_family_status  name_housing_type  \\\n",
       "0               Higher education        Civil marriage   Rented apartment   \n",
       "1               Higher education        Civil marriage   Rented apartment   \n",
       "2  Secondary / secondary special               Married  House / apartment   \n",
       "3  Secondary / secondary special  Single / not married  House / apartment   \n",
       "4  Secondary / secondary special  Single / not married  House / apartment   \n",
       "\n",
       "  occupation_type  \n",
       "0             NaN  \n",
       "1             NaN  \n",
       "2  Security staff  \n",
       "3     Sales staff  \n",
       "4     Sales staff  "
      ]
     },
     "execution_count": 9,
     "metadata": {},
     "output_type": "execute_result"
    }
   ],
   "source": [
    "# Get all categorical columns\n",
    "categorical = data.select_dtypes(include=object)\n",
    "categorical.head()"
   ]
  },
  {
   "cell_type": "code",
   "execution_count": 10,
   "id": "99ca4e98",
   "metadata": {},
   "outputs": [
    {
     "data": {
      "text/plain": [
       "Index(['code_gender', 'flag_own_car', 'flag_own_realty', 'name_income_type',\n",
       "       'name_education_type', 'name_family_status', 'name_housing_type',\n",
       "       'occupation_type'],\n",
       "      dtype='object')"
      ]
     },
     "execution_count": 10,
     "metadata": {},
     "output_type": "execute_result"
    }
   ],
   "source": [
    "categorical.columns"
   ]
  },
  {
   "cell_type": "markdown",
   "id": "a50bb7ed",
   "metadata": {},
   "source": [
    "### Process code_gender column"
   ]
  },
  {
   "cell_type": "code",
   "execution_count": 11,
   "id": "6f59b793",
   "metadata": {},
   "outputs": [
    {
     "data": {
      "text/plain": [
       "array(['M', 'F'], dtype=object)"
      ]
     },
     "execution_count": 11,
     "metadata": {},
     "output_type": "execute_result"
    }
   ],
   "source": [
    "data[\"code_gender\"].unique()"
   ]
  },
  {
   "cell_type": "code",
   "execution_count": 12,
   "id": "c152e8d4",
   "metadata": {},
   "outputs": [
    {
     "data": {
      "text/plain": [
       "array([1, 0], dtype=int64)"
      ]
     },
     "execution_count": 12,
     "metadata": {},
     "output_type": "execute_result"
    }
   ],
   "source": [
    "# column has only two values\n",
    "# encode the values and confirm\n",
    "data[\"code_gender\"] = data[\"code_gender\"].map({'F':0,'M':1})\n",
    "data[\"code_gender\"].unique()"
   ]
  },
  {
   "cell_type": "markdown",
   "id": "716c6266",
   "metadata": {},
   "source": [
    "### Process flag_own_car column"
   ]
  },
  {
   "cell_type": "code",
   "execution_count": 13,
   "id": "a7640fa8",
   "metadata": {},
   "outputs": [
    {
     "data": {
      "text/plain": [
       "array(['Y', 'N'], dtype=object)"
      ]
     },
     "execution_count": 13,
     "metadata": {},
     "output_type": "execute_result"
    }
   ],
   "source": [
    "data[\"flag_own_car\"].unique()"
   ]
  },
  {
   "cell_type": "code",
   "execution_count": 14,
   "id": "a65065de",
   "metadata": {},
   "outputs": [
    {
     "data": {
      "text/plain": [
       "array([1, 0], dtype=int64)"
      ]
     },
     "execution_count": 14,
     "metadata": {},
     "output_type": "execute_result"
    }
   ],
   "source": [
    "# column has only two values\n",
    "# encode the values and confirm\n",
    "data[\"flag_own_car\"] = data[\"flag_own_car\"].map({'Y':1,'N':0})\n",
    "data[\"flag_own_car\"].unique()"
   ]
  },
  {
   "cell_type": "markdown",
   "id": "8fa60f66",
   "metadata": {},
   "source": [
    "### Process flag_own_realty column"
   ]
  },
  {
   "cell_type": "code",
   "execution_count": 15,
   "id": "9de06e1f",
   "metadata": {},
   "outputs": [
    {
     "data": {
      "text/plain": [
       "array(['Y', 'N'], dtype=object)"
      ]
     },
     "execution_count": 15,
     "metadata": {},
     "output_type": "execute_result"
    }
   ],
   "source": [
    "data[\"flag_own_realty\"].unique()"
   ]
  },
  {
   "cell_type": "code",
   "execution_count": 16,
   "id": "bed0b1bb",
   "metadata": {},
   "outputs": [
    {
     "data": {
      "text/plain": [
       "array([1, 0], dtype=int64)"
      ]
     },
     "execution_count": 16,
     "metadata": {},
     "output_type": "execute_result"
    }
   ],
   "source": [
    "# column has only two values\n",
    "# encode the values and confirm\n",
    "data[\"flag_own_realty\"] = data[\"flag_own_realty\"].map({'Y':1,'N':0})\n",
    "data[\"flag_own_realty\"].unique()"
   ]
  },
  {
   "cell_type": "markdown",
   "id": "7ae89d80",
   "metadata": {},
   "source": [
    "### Process name_income_type column"
   ]
  },
  {
   "cell_type": "code",
   "execution_count": 17,
   "id": "b264c0fb",
   "metadata": {},
   "outputs": [
    {
     "data": {
      "text/plain": [
       "array(['Working', 'Commercial associate', 'Pensioner', 'State servant',\n",
       "       'Student'], dtype=object)"
      ]
     },
     "execution_count": 17,
     "metadata": {},
     "output_type": "execute_result"
    }
   ],
   "source": [
    "data[\"name_income_type\"].unique()"
   ]
  },
  {
   "cell_type": "code",
   "execution_count": 18,
   "id": "637e4bd6",
   "metadata": {},
   "outputs": [
    {
     "data": {
      "text/plain": [
       "array([1, 2, 3, 4, 5], dtype=int64)"
      ]
     },
     "execution_count": 18,
     "metadata": {},
     "output_type": "execute_result"
    }
   ],
   "source": [
    "# encode the values and confirm\n",
    "dict_map = {'Working':1,'Commercial associate':2,'Pensioner':3,'State servant':4,'Student':5}\n",
    "data[\"name_income_type\"] = data[\"name_income_type\"].map(dict_map)\n",
    "data[\"name_income_type\"].unique()"
   ]
  },
  {
   "cell_type": "markdown",
   "id": "5da2346f",
   "metadata": {},
   "source": [
    "### Process name_education_type column"
   ]
  },
  {
   "cell_type": "code",
   "execution_count": 19,
   "id": "db9421d7",
   "metadata": {},
   "outputs": [
    {
     "data": {
      "text/plain": [
       "array(['Higher education', 'Secondary / secondary special',\n",
       "       'Incomplete higher', 'Lower secondary', 'Academic degree'],\n",
       "      dtype=object)"
      ]
     },
     "execution_count": 19,
     "metadata": {},
     "output_type": "execute_result"
    }
   ],
   "source": [
    "data[\"name_education_type\"].unique()"
   ]
  },
  {
   "cell_type": "code",
   "execution_count": 20,
   "id": "c268b9f3",
   "metadata": {},
   "outputs": [
    {
     "data": {
      "text/plain": [
       "array([2, 3, 4, 5, 1], dtype=int64)"
      ]
     },
     "execution_count": 20,
     "metadata": {},
     "output_type": "execute_result"
    }
   ],
   "source": [
    "# encode the values and confirm\n",
    "dict_map = {'Academic degree':1,'Higher education':2,'Secondary / secondary special':3,'Incomplete higher':4,\n",
    "            'Lower secondary':5}\n",
    "data[\"name_education_type\"] = data[\"name_education_type\"].map(dict_map)\n",
    "data[\"name_education_type\"].unique()"
   ]
  },
  {
   "cell_type": "markdown",
   "id": "599b469d",
   "metadata": {},
   "source": [
    "### Process name_family_status column"
   ]
  },
  {
   "cell_type": "code",
   "execution_count": 21,
   "id": "fde17f09",
   "metadata": {},
   "outputs": [
    {
     "data": {
      "text/plain": [
       "array(['Civil marriage', 'Married', 'Single / not married', 'Separated',\n",
       "       'Widow'], dtype=object)"
      ]
     },
     "execution_count": 21,
     "metadata": {},
     "output_type": "execute_result"
    }
   ],
   "source": [
    "data[\"name_family_status\"].unique()"
   ]
  },
  {
   "cell_type": "code",
   "execution_count": 22,
   "id": "082b57b0",
   "metadata": {},
   "outputs": [
    {
     "data": {
      "text/plain": [
       "array([1, 2, 3, 4, 5], dtype=int64)"
      ]
     },
     "execution_count": 22,
     "metadata": {},
     "output_type": "execute_result"
    }
   ],
   "source": [
    "# encode the values and confirm\n",
    "dict_map = {'Civil marriage':1,'Married':2,'Single / not married':3,'Separated':4,'Widow':5}\n",
    "data[\"name_family_status\"] = data[\"name_family_status\"].map(dict_map)\n",
    "data[\"name_family_status\"].unique()"
   ]
  },
  {
   "cell_type": "markdown",
   "id": "edcb7de6",
   "metadata": {},
   "source": [
    "### Process name_housing_type column"
   ]
  },
  {
   "cell_type": "code",
   "execution_count": 23,
   "id": "fa1a9d1b",
   "metadata": {},
   "outputs": [
    {
     "data": {
      "text/plain": [
       "array(['Rented apartment', 'House / apartment', 'Municipal apartment',\n",
       "       'With parents', 'Co-op apartment', 'Office apartment'],\n",
       "      dtype=object)"
      ]
     },
     "execution_count": 23,
     "metadata": {},
     "output_type": "execute_result"
    }
   ],
   "source": [
    "data[\"name_housing_type\"].unique()"
   ]
  },
  {
   "cell_type": "code",
   "execution_count": 24,
   "id": "f7257130",
   "metadata": {},
   "outputs": [
    {
     "data": {
      "text/plain": [
       "array([1, 2, 3, 4, 5, 6], dtype=int64)"
      ]
     },
     "execution_count": 24,
     "metadata": {},
     "output_type": "execute_result"
    }
   ],
   "source": [
    "# encode the values and confirm\n",
    "dict_map = {'Rented apartment':1,'House / apartment':2,'Municipal apartment':3,'With parents':4,'Co-op apartment':5,\n",
    "           'Office apartment':6}\n",
    "data[\"name_housing_type\"] = data[\"name_housing_type\"].map(dict_map)\n",
    "data[\"name_housing_type\"].unique()"
   ]
  },
  {
   "cell_type": "markdown",
   "id": "70ffb218",
   "metadata": {},
   "source": [
    "### Process occupation_type column"
   ]
  },
  {
   "cell_type": "code",
   "execution_count": 25,
   "id": "ebd7dc88",
   "metadata": {},
   "outputs": [
    {
     "data": {
      "text/plain": [
       "array([nan, 'Security staff', 'Sales staff', 'Accountants', 'Laborers',\n",
       "       'Managers', 'Drivers', 'Core staff', 'High skill tech staff',\n",
       "       'Cleaning staff', 'Private service staff', 'Cooking staff',\n",
       "       'Low-skill Laborers', 'Medicine staff', 'Secretaries',\n",
       "       'Waiters/barmen staff', 'HR staff', 'Realty agents', 'IT staff'],\n",
       "      dtype=object)"
      ]
     },
     "execution_count": 25,
     "metadata": {},
     "output_type": "execute_result"
    }
   ],
   "source": [
    "data[\"occupation_type\"].unique()"
   ]
  },
  {
   "cell_type": "code",
   "execution_count": 26,
   "id": "3475c760",
   "metadata": {},
   "outputs": [
    {
     "data": {
      "text/plain": [
       "array([ 0,  1,  2,  3,  4,  5,  6,  7,  8,  9, 10, 11, 12, 13, 14, 15, 16,\n",
       "       17, 18], dtype=int64)"
      ]
     },
     "execution_count": 26,
     "metadata": {},
     "output_type": "execute_result"
    }
   ],
   "source": [
    "# Here, One-Hot encoder would have been a good choice but the final model shall be used for online prediction\n",
    "# Not sure how One-Hot encoder will perform when only one value is given\n",
    "# Map method seems like a better choice\n",
    "# Map NaN to 0\n",
    "\n",
    "dict_map={np.nan:0, 'Security staff':1, 'Sales staff':2, 'Accountants':3, 'Laborers':4,'Managers':5, 'Drivers':6,\n",
    "          'Core staff':7, 'High skill tech staff':8,'Cleaning staff':9, 'Private service staff':10,'Cooking staff':11,\n",
    "          'Low-skill Laborers':12, 'Medicine staff':13, 'Secretaries':14,'Waiters/barmen staff':15,'HR staff':16,\n",
    "          'Realty agents':17, 'IT staff':18}\n",
    "data[\"occupation_type\"] = data[\"occupation_type\"].map(dict_map)\n",
    "data[\"occupation_type\"].unique()"
   ]
  },
  {
   "cell_type": "code",
   "execution_count": 27,
   "id": "fef1c449",
   "metadata": {},
   "outputs": [
    {
     "data": {
      "text/plain": [
       "id                       int64\n",
       "code_gender              int64\n",
       "flag_own_car             int64\n",
       "flag_own_realty          int64\n",
       "cnt_children             int64\n",
       "amt_income_total       float64\n",
       "name_income_type         int64\n",
       "name_education_type      int64\n",
       "name_family_status       int64\n",
       "name_housing_type        int64\n",
       "days_birth               int64\n",
       "days_employed            int64\n",
       "flag_mobil               int64\n",
       "flag_work_phone          int64\n",
       "flag_phone               int64\n",
       "flag_email               int64\n",
       "occupation_type          int64\n",
       "cnt_fam_members        float64\n",
       "dtype: object"
      ]
     },
     "execution_count": 27,
     "metadata": {},
     "output_type": "execute_result"
    }
   ],
   "source": [
    "data.dtypes"
   ]
  },
  {
   "cell_type": "markdown",
   "id": "1e373027",
   "metadata": {},
   "source": [
    "#### All Columns are now int and float types only"
   ]
  },
  {
   "cell_type": "markdown",
   "id": "f4254fb2",
   "metadata": {},
   "source": [
    "## <a name=\"data_analysis\"> </a> Data Analysis"
   ]
  },
  {
   "cell_type": "markdown",
   "id": "ef9574d1",
   "metadata": {},
   "source": [
    "#### days_birth is given as negative values. Convert it to absolute values\n",
    "#### Convert the days_birth column from days to years. Years are a more realistic reflection of one's age than number of days\n",
    "#### Create a new column named \"age_years\""
   ]
  },
  {
   "cell_type": "code",
   "execution_count": 28,
   "id": "bfc169ce",
   "metadata": {},
   "outputs": [
    {
     "data": {
      "text/plain": [
       "0    34.0\n",
       "1    34.0\n",
       "2    60.0\n",
       "3    54.0\n",
       "4    54.0\n",
       "Name: age_years, dtype: float64"
      ]
     },
     "execution_count": 28,
     "metadata": {},
     "output_type": "execute_result"
    }
   ],
   "source": [
    "data[\"age_years\"] = round(np.abs(data[\"days_birth\"])/356,0)\n",
    "data[\"age_years\"].head()"
   ]
  },
  {
   "cell_type": "markdown",
   "id": "6369def6",
   "metadata": {},
   "source": [
    "#### days_employed is indicated as negative. Convert them to absolute values\n",
    "#### Months of employment are a more realistic reprsentation of employment duration than days\n",
    "#### Members employed for more that 15 days are considered as employed for a full month\n",
    "#### Less than 15 days are to be considered unemployed\n",
    "#### We assume a month has 30 days"
   ]
  },
  {
   "cell_type": "code",
   "execution_count": 29,
   "id": "582f1eaf",
   "metadata": {},
   "outputs": [
    {
     "data": {
      "text/plain": [
       "0    152.0\n",
       "1    152.0\n",
       "2     38.0\n",
       "3    102.0\n",
       "4    102.0\n",
       "Name: months_employed, dtype: float64"
      ]
     },
     "execution_count": 29,
     "metadata": {},
     "output_type": "execute_result"
    }
   ],
   "source": [
    "data[\"months_employed\"] = np.ceil(np.abs(data[\"days_employed\"])/30)\n",
    "data[\"months_employed\"].head()"
   ]
  },
  {
   "cell_type": "code",
   "execution_count": 30,
   "id": "3076a05e",
   "metadata": {},
   "outputs": [],
   "source": [
    "# drop \"days_employed\" and \"days_birth\" columns\n",
    "data.drop([\"days_employed\",\"days_birth\"], axis=1,inplace=True)"
   ]
  },
  {
   "cell_type": "markdown",
   "id": "4a3a80de",
   "metadata": {},
   "source": [
    "### Analyzing the amt_income_total column (Income of applicants) "
   ]
  },
  {
   "cell_type": "code",
   "execution_count": 31,
   "id": "edfbf3e5",
   "metadata": {},
   "outputs": [
    {
     "data": {
      "text/plain": [
       "count    4.385570e+05\n",
       "mean     1.875243e+05\n",
       "std      1.100869e+05\n",
       "min      2.610000e+04\n",
       "25%      1.215000e+05\n",
       "50%      1.607805e+05\n",
       "75%      2.250000e+05\n",
       "max      6.750000e+06\n",
       "Name: amt_income_total, dtype: float64"
      ]
     },
     "execution_count": 31,
     "metadata": {},
     "output_type": "execute_result"
    }
   ],
   "source": [
    "data['amt_income_total'].describe().T"
   ]
  },
  {
   "cell_type": "code",
   "execution_count": 32,
   "id": "994b9c8d",
   "metadata": {},
   "outputs": [
    {
     "data": {
      "image/png": "[encoded data removed]",
      "text/plain": [
       "<Figure size 1080x360 with 1 Axes>"
      ]
     },
     "metadata": {},
     "output_type": "display_data"
    }
   ],
   "source": [
    "sns.set(rc={'figure.figsize':(15,5)}, font_scale=1.5, style='whitegrid')\n",
    "ax = sns.boxplot(x=data['amt_income_total'])"
   ]
  },
  {
   "cell_type": "markdown",
   "id": "f89067a3",
   "metadata": {},
   "source": [
    "### Observations\n",
    "1. There are alot of outliers\n",
    "2. Outliers are mostly on the upper side\n",
    "3. In this dataset, the Median is a better measure of Central tedency than the Mean\n",
    "\n",
    "### NOTE: We do not need to use the Mean of the amt_income_total column"
   ]
  },
  {
   "cell_type": "code",
   "execution_count": null,
   "id": "c1f4d5a0",
   "metadata": {},
   "outputs": [],
   "source": []
  },
  {
   "cell_type": "markdown",
   "id": "23024424",
   "metadata": {},
   "source": [
    "# <a name=\"first_model\"> </a> First ML model"
   ]
  },
  {
   "cell_type": "markdown",
   "id": "0881b554",
   "metadata": {},
   "source": [
    "### Normalize the numerical columns\n",
    "### All our data is numerical. We already encoded the categorical columns"
   ]
  },
  {
   "cell_type": "code",
   "execution_count": 33,
   "id": "7a14872e",
   "metadata": {},
   "outputs": [
    {
     "data": {
      "text/plain": [
       "id                       int64\n",
       "code_gender              int64\n",
       "flag_own_car             int64\n",
       "flag_own_realty          int64\n",
       "cnt_children             int64\n",
       "amt_income_total       float64\n",
       "name_income_type         int64\n",
       "name_education_type      int64\n",
       "name_family_status       int64\n",
       "name_housing_type        int64\n",
       "flag_mobil               int64\n",
       "flag_work_phone          int64\n",
       "flag_phone               int64\n",
       "flag_email               int64\n",
       "occupation_type          int64\n",
       "cnt_fam_members        float64\n",
       "age_years              float64\n",
       "months_employed        float64\n",
       "dtype: object"
      ]
     },
     "execution_count": 33,
     "metadata": {},
     "output_type": "execute_result"
    }
   ],
   "source": [
    "data.dtypes"
   ]
  },
  {
   "cell_type": "markdown",
   "id": "0d01bf97",
   "metadata": {},
   "source": [
    "### Drop our target variable from data to be scaled\n",
    "### Exclude all categorical columns from data to be scaled\n",
    "### This is a classification problem not a regression (continous) problem. Scaling the target variable  will result into it being regarded as a countinous prediction by the ML model"
   ]
  },
  {
   "cell_type": "code",
   "execution_count": 34,
   "id": "433ef825",
   "metadata": {},
   "outputs": [
    {
     "data": {
      "text/plain": [
       "Index(['age_years', 'months_employed', 'amt_income_total'], dtype='object')"
      ]
     },
     "execution_count": 34,
     "metadata": {},
     "output_type": "execute_result"
    }
   ],
   "source": [
    "# From our data analysis, Only three columns need scaling\n",
    "final_data = data[['age_years','months_employed','amt_income_total']]\n",
    "final_data.columns"
   ]
  },
  {
   "cell_type": "code",
   "execution_count": 35,
   "id": "96f3f41c",
   "metadata": {},
   "outputs": [
    {
     "data": {
      "text/html": [
       "<div>\n",
       "<style scoped>\n",
       "    .dataframe tbody tr th:only-of-type {\n",
       "        vertical-align: middle;\n",
       "    }\n",
       "\n",
       "    .dataframe tbody tr th {\n",
       "        vertical-align: top;\n",
       "    }\n",
       "\n",
       "    .dataframe thead th {\n",
       "        text-align: right;\n",
       "    }\n",
       "</style>\n",
       "<table border=\"1\" class=\"dataframe\">\n",
       "  <thead>\n",
       "    <tr style=\"text-align: right;\">\n",
       "      <th></th>\n",
       "      <th>age_years</th>\n",
       "      <th>months_employed</th>\n",
       "      <th>amt_income_total</th>\n",
       "    </tr>\n",
       "  </thead>\n",
       "  <tbody>\n",
       "    <tr>\n",
       "      <th>0</th>\n",
       "      <td>0.26</td>\n",
       "      <td>0.012403</td>\n",
       "      <td>0.059697</td>\n",
       "    </tr>\n",
       "    <tr>\n",
       "      <th>1</th>\n",
       "      <td>0.26</td>\n",
       "      <td>0.012403</td>\n",
       "      <td>0.059697</td>\n",
       "    </tr>\n",
       "    <tr>\n",
       "      <th>2</th>\n",
       "      <td>0.78</td>\n",
       "      <td>0.003039</td>\n",
       "      <td>0.012850</td>\n",
       "    </tr>\n",
       "    <tr>\n",
       "      <th>3</th>\n",
       "      <td>0.66</td>\n",
       "      <td>0.008296</td>\n",
       "      <td>0.036274</td>\n",
       "    </tr>\n",
       "    <tr>\n",
       "      <th>4</th>\n",
       "      <td>0.66</td>\n",
       "      <td>0.008296</td>\n",
       "      <td>0.036274</td>\n",
       "    </tr>\n",
       "  </tbody>\n",
       "</table>\n",
       "</div>"
      ],
      "text/plain": [
       "   age_years  months_employed  amt_income_total\n",
       "0       0.26         0.012403          0.059697\n",
       "1       0.26         0.012403          0.059697\n",
       "2       0.78         0.003039          0.012850\n",
       "3       0.66         0.008296          0.036274\n",
       "4       0.66         0.008296          0.036274"
      ]
     },
     "execution_count": 35,
     "metadata": {},
     "output_type": "execute_result"
    }
   ],
   "source": [
    "from sklearn.preprocessing import MinMaxScaler\n",
    "scaler = MinMaxScaler().fit(final_data)\n",
    "data_scaled = scaler.transform(final_data)\n",
    "data_scaled = pd.DataFrame(data_scaled, columns = final_data.columns)\n",
    "data_scaled.head()"
   ]
  },
  {
   "cell_type": "code",
   "execution_count": 36,
   "id": "a824a4b9",
   "metadata": {},
   "outputs": [
    {
     "data": {
      "text/plain": [
       "Index(['id', 'code_gender', 'flag_own_car', 'flag_own_realty', 'cnt_children',\n",
       "       'name_income_type', 'name_education_type', 'name_family_status',\n",
       "       'name_housing_type', 'flag_mobil', 'flag_work_phone', 'flag_phone',\n",
       "       'flag_email', 'occupation_type', 'cnt_fam_members'],\n",
       "      dtype='object')"
      ]
     },
     "execution_count": 36,
     "metadata": {},
     "output_type": "execute_result"
    }
   ],
   "source": [
    "# drop the scaled column from original data\n",
    "data = data.drop(['age_years','months_employed','amt_income_total'], axis=1)\n",
    "data.columns"
   ]
  },
  {
   "cell_type": "markdown",
   "id": "3077c8df",
   "metadata": {},
   "source": [
    "#### Combine the Scaled and unscaled data into new dataframe"
   ]
  },
  {
   "cell_type": "code",
   "execution_count": 37,
   "id": "1817bb68",
   "metadata": {},
   "outputs": [
    {
     "data": {
      "text/html": [
       "<div>\n",
       "<style scoped>\n",
       "    .dataframe tbody tr th:only-of-type {\n",
       "        vertical-align: middle;\n",
       "    }\n",
       "\n",
       "    .dataframe tbody tr th {\n",
       "        vertical-align: top;\n",
       "    }\n",
       "\n",
       "    .dataframe thead th {\n",
       "        text-align: right;\n",
       "    }\n",
       "</style>\n",
       "<table border=\"1\" class=\"dataframe\">\n",
       "  <thead>\n",
       "    <tr style=\"text-align: right;\">\n",
       "      <th></th>\n",
       "      <th>id</th>\n",
       "      <th>code_gender</th>\n",
       "      <th>flag_own_car</th>\n",
       "      <th>flag_own_realty</th>\n",
       "      <th>cnt_children</th>\n",
       "      <th>name_income_type</th>\n",
       "      <th>name_education_type</th>\n",
       "      <th>name_family_status</th>\n",
       "      <th>name_housing_type</th>\n",
       "      <th>flag_mobil</th>\n",
       "      <th>flag_work_phone</th>\n",
       "      <th>flag_phone</th>\n",
       "      <th>flag_email</th>\n",
       "      <th>occupation_type</th>\n",
       "      <th>cnt_fam_members</th>\n",
       "      <th>age_years</th>\n",
       "      <th>months_employed</th>\n",
       "      <th>amt_income_total</th>\n",
       "    </tr>\n",
       "  </thead>\n",
       "  <tbody>\n",
       "    <tr>\n",
       "      <th>0</th>\n",
       "      <td>5008804</td>\n",
       "      <td>1</td>\n",
       "      <td>1</td>\n",
       "      <td>1</td>\n",
       "      <td>0</td>\n",
       "      <td>1</td>\n",
       "      <td>2</td>\n",
       "      <td>1</td>\n",
       "      <td>1</td>\n",
       "      <td>1</td>\n",
       "      <td>1</td>\n",
       "      <td>0</td>\n",
       "      <td>0</td>\n",
       "      <td>0</td>\n",
       "      <td>2.0</td>\n",
       "      <td>0.26</td>\n",
       "      <td>0.012403</td>\n",
       "      <td>0.059697</td>\n",
       "    </tr>\n",
       "    <tr>\n",
       "      <th>1</th>\n",
       "      <td>5008805</td>\n",
       "      <td>1</td>\n",
       "      <td>1</td>\n",
       "      <td>1</td>\n",
       "      <td>0</td>\n",
       "      <td>1</td>\n",
       "      <td>2</td>\n",
       "      <td>1</td>\n",
       "      <td>1</td>\n",
       "      <td>1</td>\n",
       "      <td>1</td>\n",
       "      <td>0</td>\n",
       "      <td>0</td>\n",
       "      <td>0</td>\n",
       "      <td>2.0</td>\n",
       "      <td>0.26</td>\n",
       "      <td>0.012403</td>\n",
       "      <td>0.059697</td>\n",
       "    </tr>\n",
       "    <tr>\n",
       "      <th>2</th>\n",
       "      <td>5008806</td>\n",
       "      <td>1</td>\n",
       "      <td>1</td>\n",
       "      <td>1</td>\n",
       "      <td>0</td>\n",
       "      <td>1</td>\n",
       "      <td>3</td>\n",
       "      <td>2</td>\n",
       "      <td>2</td>\n",
       "      <td>1</td>\n",
       "      <td>0</td>\n",
       "      <td>0</td>\n",
       "      <td>0</td>\n",
       "      <td>1</td>\n",
       "      <td>2.0</td>\n",
       "      <td>0.78</td>\n",
       "      <td>0.003039</td>\n",
       "      <td>0.012850</td>\n",
       "    </tr>\n",
       "    <tr>\n",
       "      <th>3</th>\n",
       "      <td>5008808</td>\n",
       "      <td>0</td>\n",
       "      <td>0</td>\n",
       "      <td>1</td>\n",
       "      <td>0</td>\n",
       "      <td>2</td>\n",
       "      <td>3</td>\n",
       "      <td>3</td>\n",
       "      <td>2</td>\n",
       "      <td>1</td>\n",
       "      <td>0</td>\n",
       "      <td>1</td>\n",
       "      <td>1</td>\n",
       "      <td>2</td>\n",
       "      <td>1.0</td>\n",
       "      <td>0.66</td>\n",
       "      <td>0.008296</td>\n",
       "      <td>0.036274</td>\n",
       "    </tr>\n",
       "    <tr>\n",
       "      <th>4</th>\n",
       "      <td>5008809</td>\n",
       "      <td>0</td>\n",
       "      <td>0</td>\n",
       "      <td>1</td>\n",
       "      <td>0</td>\n",
       "      <td>2</td>\n",
       "      <td>3</td>\n",
       "      <td>3</td>\n",
       "      <td>2</td>\n",
       "      <td>1</td>\n",
       "      <td>0</td>\n",
       "      <td>1</td>\n",
       "      <td>1</td>\n",
       "      <td>2</td>\n",
       "      <td>1.0</td>\n",
       "      <td>0.66</td>\n",
       "      <td>0.008296</td>\n",
       "      <td>0.036274</td>\n",
       "    </tr>\n",
       "  </tbody>\n",
       "</table>\n",
       "</div>"
      ],
      "text/plain": [
       "        id  code_gender  flag_own_car  flag_own_realty  cnt_children  \\\n",
       "0  5008804            1             1                1             0   \n",
       "1  5008805            1             1                1             0   \n",
       "2  5008806            1             1                1             0   \n",
       "3  5008808            0             0                1             0   \n",
       "4  5008809            0             0                1             0   \n",
       "\n",
       "   name_income_type  name_education_type  name_family_status  \\\n",
       "0                 1                    2                   1   \n",
       "1                 1                    2                   1   \n",
       "2                 1                    3                   2   \n",
       "3                 2                    3                   3   \n",
       "4                 2                    3                   3   \n",
       "\n",
       "   name_housing_type  flag_mobil  flag_work_phone  flag_phone  flag_email  \\\n",
       "0                  1           1                1           0           0   \n",
       "1                  1           1                1           0           0   \n",
       "2                  2           1                0           0           0   \n",
       "3                  2           1                0           1           1   \n",
       "4                  2           1                0           1           1   \n",
       "\n",
       "   occupation_type  cnt_fam_members  age_years  months_employed  \\\n",
       "0                0              2.0       0.26         0.012403   \n",
       "1                0              2.0       0.26         0.012403   \n",
       "2                1              2.0       0.78         0.003039   \n",
       "3                2              1.0       0.66         0.008296   \n",
       "4                2              1.0       0.66         0.008296   \n",
       "\n",
       "   amt_income_total  \n",
       "0          0.059697  \n",
       "1          0.059697  \n",
       "2          0.012850  \n",
       "3          0.036274  \n",
       "4          0.036274  "
      ]
     },
     "execution_count": 37,
     "metadata": {},
     "output_type": "execute_result"
    }
   ],
   "source": [
    "final_data_scaled = pd.concat([data,data_scaled],axis=1)\n",
    "final_data_scaled.head()"
   ]
  },
  {
   "cell_type": "markdown",
   "id": "14989c5f",
   "metadata": {},
   "source": [
    "### Seperate our data into the null_dataset and not_null_dataset\n",
    "### Use the not_null_dataset to train and test our model\n",
    "### Predict the \"occupation_type\" values in the null_dataset\n",
    "\n",
    "## NOTE: We mapped all our NaN to zero"
   ]
  },
  {
   "cell_type": "code",
   "execution_count": 38,
   "id": "067b90f0",
   "metadata": {},
   "outputs": [
    {
     "data": {
      "text/plain": [
       "(134203, 18)"
      ]
     },
     "execution_count": 38,
     "metadata": {},
     "output_type": "execute_result"
    }
   ],
   "source": [
    "null_dataset = final_data_scaled[final_data_scaled[\"occupation_type\"] == 0]\n",
    "null_dataset.shape"
   ]
  },
  {
   "cell_type": "code",
   "execution_count": 39,
   "id": "62595e4b",
   "metadata": {},
   "outputs": [
    {
     "data": {
      "text/html": [
       "<div>\n",
       "<style scoped>\n",
       "    .dataframe tbody tr th:only-of-type {\n",
       "        vertical-align: middle;\n",
       "    }\n",
       "\n",
       "    .dataframe tbody tr th {\n",
       "        vertical-align: top;\n",
       "    }\n",
       "\n",
       "    .dataframe thead th {\n",
       "        text-align: right;\n",
       "    }\n",
       "</style>\n",
       "<table border=\"1\" class=\"dataframe\">\n",
       "  <thead>\n",
       "    <tr style=\"text-align: right;\">\n",
       "      <th></th>\n",
       "      <th>id</th>\n",
       "      <th>code_gender</th>\n",
       "      <th>flag_own_car</th>\n",
       "      <th>flag_own_realty</th>\n",
       "      <th>cnt_children</th>\n",
       "      <th>name_income_type</th>\n",
       "      <th>name_education_type</th>\n",
       "      <th>name_family_status</th>\n",
       "      <th>name_housing_type</th>\n",
       "      <th>flag_mobil</th>\n",
       "      <th>flag_work_phone</th>\n",
       "      <th>flag_phone</th>\n",
       "      <th>flag_email</th>\n",
       "      <th>occupation_type</th>\n",
       "      <th>cnt_fam_members</th>\n",
       "      <th>age_years</th>\n",
       "      <th>months_employed</th>\n",
       "      <th>amt_income_total</th>\n",
       "    </tr>\n",
       "  </thead>\n",
       "  <tbody>\n",
       "    <tr>\n",
       "      <th>0</th>\n",
       "      <td>5008804</td>\n",
       "      <td>1</td>\n",
       "      <td>1</td>\n",
       "      <td>1</td>\n",
       "      <td>0</td>\n",
       "      <td>1</td>\n",
       "      <td>2</td>\n",
       "      <td>1</td>\n",
       "      <td>1</td>\n",
       "      <td>1</td>\n",
       "      <td>1</td>\n",
       "      <td>0</td>\n",
       "      <td>0</td>\n",
       "      <td>0</td>\n",
       "      <td>2.0</td>\n",
       "      <td>0.26</td>\n",
       "      <td>0.012403</td>\n",
       "      <td>0.059697</td>\n",
       "    </tr>\n",
       "    <tr>\n",
       "      <th>1</th>\n",
       "      <td>5008805</td>\n",
       "      <td>1</td>\n",
       "      <td>1</td>\n",
       "      <td>1</td>\n",
       "      <td>0</td>\n",
       "      <td>1</td>\n",
       "      <td>2</td>\n",
       "      <td>1</td>\n",
       "      <td>1</td>\n",
       "      <td>1</td>\n",
       "      <td>1</td>\n",
       "      <td>0</td>\n",
       "      <td>0</td>\n",
       "      <td>0</td>\n",
       "      <td>2.0</td>\n",
       "      <td>0.26</td>\n",
       "      <td>0.012403</td>\n",
       "      <td>0.059697</td>\n",
       "    </tr>\n",
       "    <tr>\n",
       "      <th>7</th>\n",
       "      <td>5008812</td>\n",
       "      <td>0</td>\n",
       "      <td>0</td>\n",
       "      <td>1</td>\n",
       "      <td>0</td>\n",
       "      <td>3</td>\n",
       "      <td>2</td>\n",
       "      <td>4</td>\n",
       "      <td>2</td>\n",
       "      <td>1</td>\n",
       "      <td>0</td>\n",
       "      <td>0</td>\n",
       "      <td>0</td>\n",
       "      <td>0</td>\n",
       "      <td>1.0</td>\n",
       "      <td>0.84</td>\n",
       "      <td>1.000000</td>\n",
       "      <td>0.038281</td>\n",
       "    </tr>\n",
       "    <tr>\n",
       "      <th>8</th>\n",
       "      <td>5008813</td>\n",
       "      <td>0</td>\n",
       "      <td>0</td>\n",
       "      <td>1</td>\n",
       "      <td>0</td>\n",
       "      <td>3</td>\n",
       "      <td>2</td>\n",
       "      <td>4</td>\n",
       "      <td>2</td>\n",
       "      <td>1</td>\n",
       "      <td>0</td>\n",
       "      <td>0</td>\n",
       "      <td>0</td>\n",
       "      <td>0</td>\n",
       "      <td>1.0</td>\n",
       "      <td>0.84</td>\n",
       "      <td>1.000000</td>\n",
       "      <td>0.038281</td>\n",
       "    </tr>\n",
       "    <tr>\n",
       "      <th>9</th>\n",
       "      <td>5008814</td>\n",
       "      <td>0</td>\n",
       "      <td>0</td>\n",
       "      <td>1</td>\n",
       "      <td>0</td>\n",
       "      <td>3</td>\n",
       "      <td>2</td>\n",
       "      <td>4</td>\n",
       "      <td>2</td>\n",
       "      <td>1</td>\n",
       "      <td>0</td>\n",
       "      <td>0</td>\n",
       "      <td>0</td>\n",
       "      <td>0</td>\n",
       "      <td>1.0</td>\n",
       "      <td>0.84</td>\n",
       "      <td>1.000000</td>\n",
       "      <td>0.038281</td>\n",
       "    </tr>\n",
       "  </tbody>\n",
       "</table>\n",
       "</div>"
      ],
      "text/plain": [
       "        id  code_gender  flag_own_car  flag_own_realty  cnt_children  \\\n",
       "0  5008804            1             1                1             0   \n",
       "1  5008805            1             1                1             0   \n",
       "7  5008812            0             0                1             0   \n",
       "8  5008813            0             0                1             0   \n",
       "9  5008814            0             0                1             0   \n",
       "\n",
       "   name_income_type  name_education_type  name_family_status  \\\n",
       "0                 1                    2                   1   \n",
       "1                 1                    2                   1   \n",
       "7                 3                    2                   4   \n",
       "8                 3                    2                   4   \n",
       "9                 3                    2                   4   \n",
       "\n",
       "   name_housing_type  flag_mobil  flag_work_phone  flag_phone  flag_email  \\\n",
       "0                  1           1                1           0           0   \n",
       "1                  1           1                1           0           0   \n",
       "7                  2           1                0           0           0   \n",
       "8                  2           1                0           0           0   \n",
       "9                  2           1                0           0           0   \n",
       "\n",
       "   occupation_type  cnt_fam_members  age_years  months_employed  \\\n",
       "0                0              2.0       0.26         0.012403   \n",
       "1                0              2.0       0.26         0.012403   \n",
       "7                0              1.0       0.84         1.000000   \n",
       "8                0              1.0       0.84         1.000000   \n",
       "9                0              1.0       0.84         1.000000   \n",
       "\n",
       "   amt_income_total  \n",
       "0          0.059697  \n",
       "1          0.059697  \n",
       "7          0.038281  \n",
       "8          0.038281  \n",
       "9          0.038281  "
      ]
     },
     "execution_count": 39,
     "metadata": {},
     "output_type": "execute_result"
    }
   ],
   "source": [
    "null_dataset.head()"
   ]
  },
  {
   "cell_type": "code",
   "execution_count": 40,
   "id": "b80995f1",
   "metadata": {},
   "outputs": [
    {
     "data": {
      "text/plain": [
       "(304354, 18)"
      ]
     },
     "execution_count": 40,
     "metadata": {},
     "output_type": "execute_result"
    }
   ],
   "source": [
    "not_null_dataset = final_data_scaled[~(final_data_scaled[\"occupation_type\"] == 0)]\n",
    "not_null_dataset.shape"
   ]
  },
  {
   "cell_type": "code",
   "execution_count": 41,
   "id": "3b5ad2a3",
   "metadata": {},
   "outputs": [
    {
     "data": {
      "text/html": [
       "<div>\n",
       "<style scoped>\n",
       "    .dataframe tbody tr th:only-of-type {\n",
       "        vertical-align: middle;\n",
       "    }\n",
       "\n",
       "    .dataframe tbody tr th {\n",
       "        vertical-align: top;\n",
       "    }\n",
       "\n",
       "    .dataframe thead th {\n",
       "        text-align: right;\n",
       "    }\n",
       "</style>\n",
       "<table border=\"1\" class=\"dataframe\">\n",
       "  <thead>\n",
       "    <tr style=\"text-align: right;\">\n",
       "      <th></th>\n",
       "      <th>id</th>\n",
       "      <th>code_gender</th>\n",
       "      <th>flag_own_car</th>\n",
       "      <th>flag_own_realty</th>\n",
       "      <th>cnt_children</th>\n",
       "      <th>name_income_type</th>\n",
       "      <th>name_education_type</th>\n",
       "      <th>name_family_status</th>\n",
       "      <th>name_housing_type</th>\n",
       "      <th>flag_mobil</th>\n",
       "      <th>flag_work_phone</th>\n",
       "      <th>flag_phone</th>\n",
       "      <th>flag_email</th>\n",
       "      <th>occupation_type</th>\n",
       "      <th>cnt_fam_members</th>\n",
       "      <th>age_years</th>\n",
       "      <th>months_employed</th>\n",
       "      <th>amt_income_total</th>\n",
       "    </tr>\n",
       "  </thead>\n",
       "  <tbody>\n",
       "    <tr>\n",
       "      <th>2</th>\n",
       "      <td>5008806</td>\n",
       "      <td>1</td>\n",
       "      <td>1</td>\n",
       "      <td>1</td>\n",
       "      <td>0</td>\n",
       "      <td>1</td>\n",
       "      <td>3</td>\n",
       "      <td>2</td>\n",
       "      <td>2</td>\n",
       "      <td>1</td>\n",
       "      <td>0</td>\n",
       "      <td>0</td>\n",
       "      <td>0</td>\n",
       "      <td>1</td>\n",
       "      <td>2.0</td>\n",
       "      <td>0.78</td>\n",
       "      <td>0.003039</td>\n",
       "      <td>0.012850</td>\n",
       "    </tr>\n",
       "    <tr>\n",
       "      <th>3</th>\n",
       "      <td>5008808</td>\n",
       "      <td>0</td>\n",
       "      <td>0</td>\n",
       "      <td>1</td>\n",
       "      <td>0</td>\n",
       "      <td>2</td>\n",
       "      <td>3</td>\n",
       "      <td>3</td>\n",
       "      <td>2</td>\n",
       "      <td>1</td>\n",
       "      <td>0</td>\n",
       "      <td>1</td>\n",
       "      <td>1</td>\n",
       "      <td>2</td>\n",
       "      <td>1.0</td>\n",
       "      <td>0.66</td>\n",
       "      <td>0.008296</td>\n",
       "      <td>0.036274</td>\n",
       "    </tr>\n",
       "    <tr>\n",
       "      <th>4</th>\n",
       "      <td>5008809</td>\n",
       "      <td>0</td>\n",
       "      <td>0</td>\n",
       "      <td>1</td>\n",
       "      <td>0</td>\n",
       "      <td>2</td>\n",
       "      <td>3</td>\n",
       "      <td>3</td>\n",
       "      <td>2</td>\n",
       "      <td>1</td>\n",
       "      <td>0</td>\n",
       "      <td>1</td>\n",
       "      <td>1</td>\n",
       "      <td>2</td>\n",
       "      <td>1.0</td>\n",
       "      <td>0.66</td>\n",
       "      <td>0.008296</td>\n",
       "      <td>0.036274</td>\n",
       "    </tr>\n",
       "    <tr>\n",
       "      <th>5</th>\n",
       "      <td>5008810</td>\n",
       "      <td>0</td>\n",
       "      <td>0</td>\n",
       "      <td>1</td>\n",
       "      <td>0</td>\n",
       "      <td>2</td>\n",
       "      <td>3</td>\n",
       "      <td>3</td>\n",
       "      <td>2</td>\n",
       "      <td>1</td>\n",
       "      <td>0</td>\n",
       "      <td>1</td>\n",
       "      <td>1</td>\n",
       "      <td>2</td>\n",
       "      <td>1.0</td>\n",
       "      <td>0.66</td>\n",
       "      <td>0.008296</td>\n",
       "      <td>0.036274</td>\n",
       "    </tr>\n",
       "    <tr>\n",
       "      <th>6</th>\n",
       "      <td>5008811</td>\n",
       "      <td>0</td>\n",
       "      <td>0</td>\n",
       "      <td>1</td>\n",
       "      <td>0</td>\n",
       "      <td>2</td>\n",
       "      <td>3</td>\n",
       "      <td>3</td>\n",
       "      <td>2</td>\n",
       "      <td>1</td>\n",
       "      <td>0</td>\n",
       "      <td>1</td>\n",
       "      <td>1</td>\n",
       "      <td>2</td>\n",
       "      <td>1.0</td>\n",
       "      <td>0.66</td>\n",
       "      <td>0.008296</td>\n",
       "      <td>0.036274</td>\n",
       "    </tr>\n",
       "  </tbody>\n",
       "</table>\n",
       "</div>"
      ],
      "text/plain": [
       "        id  code_gender  flag_own_car  flag_own_realty  cnt_children  \\\n",
       "2  5008806            1             1                1             0   \n",
       "3  5008808            0             0                1             0   \n",
       "4  5008809            0             0                1             0   \n",
       "5  5008810            0             0                1             0   \n",
       "6  5008811            0             0                1             0   \n",
       "\n",
       "   name_income_type  name_education_type  name_family_status  \\\n",
       "2                 1                    3                   2   \n",
       "3                 2                    3                   3   \n",
       "4                 2                    3                   3   \n",
       "5                 2                    3                   3   \n",
       "6                 2                    3                   3   \n",
       "\n",
       "   name_housing_type  flag_mobil  flag_work_phone  flag_phone  flag_email  \\\n",
       "2                  2           1                0           0           0   \n",
       "3                  2           1                0           1           1   \n",
       "4                  2           1                0           1           1   \n",
       "5                  2           1                0           1           1   \n",
       "6                  2           1                0           1           1   \n",
       "\n",
       "   occupation_type  cnt_fam_members  age_years  months_employed  \\\n",
       "2                1              2.0       0.78         0.003039   \n",
       "3                2              1.0       0.66         0.008296   \n",
       "4                2              1.0       0.66         0.008296   \n",
       "5                2              1.0       0.66         0.008296   \n",
       "6                2              1.0       0.66         0.008296   \n",
       "\n",
       "   amt_income_total  \n",
       "2          0.012850  \n",
       "3          0.036274  \n",
       "4          0.036274  \n",
       "5          0.036274  \n",
       "6          0.036274  "
      ]
     },
     "execution_count": 41,
     "metadata": {},
     "output_type": "execute_result"
    }
   ],
   "source": [
    "not_null_dataset.head()"
   ]
  },
  {
   "cell_type": "code",
   "execution_count": 42,
   "id": "5575ac03",
   "metadata": {},
   "outputs": [],
   "source": [
    "# our target variable\n",
    "y = not_null_dataset[\"occupation_type\"]\n",
    "X = not_null_dataset.drop([\"occupation_type\",'id'], axis=1)"
   ]
  },
  {
   "cell_type": "markdown",
   "id": "cdc7ed73",
   "metadata": {},
   "source": [
    "### Randomise the data"
   ]
  },
  {
   "cell_type": "code",
   "execution_count": 43,
   "id": "9053ccb6",
   "metadata": {},
   "outputs": [],
   "source": [
    "from sklearn.model_selection import train_test_split\n",
    "X_train, X_test, y_train, y_test = train_test_split(X, y, test_size=0.2, random_state=123)"
   ]
  },
  {
   "cell_type": "markdown",
   "id": "3f455abe",
   "metadata": {},
   "source": [
    "### USE DecisionTreeClassifier. It has the best result (accuracy > 95%)\n"
   ]
  },
  {
   "cell_type": "code",
   "execution_count": 44,
   "id": "af38fb67",
   "metadata": {},
   "outputs": [
    {
     "data": {
      "text/plain": [
       "array([0.95116843, 0.95342725, 0.9541665 , 0.95239855, 0.95297355,\n",
       "       0.95120749, 0.95473961, 0.95198784, 0.94985214, 0.95276819])"
      ]
     },
     "execution_count": 44,
     "metadata": {},
     "output_type": "execute_result"
    }
   ],
   "source": [
    "from sklearn.tree import DecisionTreeClassifier\n",
    "from sklearn.model_selection import cross_val_score\n",
    "clf = DecisionTreeClassifier(random_state=0)\n",
    "#iris = load_iris()\n",
    "cross_val_score(clf, X_train, y_train, cv=10)"
   ]
  },
  {
   "cell_type": "markdown",
   "id": "b95352fe",
   "metadata": {},
   "source": [
    "### Then the magic of .fit() and .predict()"
   ]
  },
  {
   "cell_type": "code",
   "execution_count": 45,
   "id": "df581db7",
   "metadata": {},
   "outputs": [],
   "source": [
    "clf.fit(X_train, y_train)\n",
    "y_pred = clf.predict(X_test)"
   ]
  },
  {
   "cell_type": "code",
   "execution_count": 46,
   "id": "58a56557",
   "metadata": {},
   "outputs": [
    {
     "data": {
      "text/plain": [
       "array([ 2,  8,  2, ..., 13,  4,  6], dtype=int64)"
      ]
     },
     "execution_count": 46,
     "metadata": {},
     "output_type": "execute_result"
    }
   ],
   "source": [
    "y_pred"
   ]
  },
  {
   "cell_type": "code",
   "execution_count": 47,
   "id": "c371b58e",
   "metadata": {},
   "outputs": [
    {
     "name": "stdout",
     "output_type": "stream",
     "text": [
      "RMSE: 1.019709\n"
     ]
    }
   ],
   "source": [
    "from sklearn.metrics import mean_squared_error,accuracy_score\n",
    "rmse = np.sqrt(mean_squared_error(y_test, y_pred))\n",
    "print(\"RMSE: %f\" % (rmse))"
   ]
  },
  {
   "cell_type": "code",
   "execution_count": 48,
   "id": "217402b4",
   "metadata": {},
   "outputs": [
    {
     "data": {
      "text/plain": [
       "0.9611637725682181"
      ]
     },
     "execution_count": 48,
     "metadata": {},
     "output_type": "execute_result"
    }
   ],
   "source": [
    "accuracy_score(y_test, y_pred)"
   ]
  },
  {
   "cell_type": "code",
   "execution_count": 49,
   "id": "d3af44ca",
   "metadata": {},
   "outputs": [
    {
     "data": {
      "text/html": [
       "<div>\n",
       "<style scoped>\n",
       "    .dataframe tbody tr th:only-of-type {\n",
       "        vertical-align: middle;\n",
       "    }\n",
       "\n",
       "    .dataframe tbody tr th {\n",
       "        vertical-align: top;\n",
       "    }\n",
       "\n",
       "    .dataframe thead th {\n",
       "        text-align: right;\n",
       "    }\n",
       "</style>\n",
       "<table border=\"1\" class=\"dataframe\">\n",
       "  <thead>\n",
       "    <tr style=\"text-align: right;\">\n",
       "      <th></th>\n",
       "      <th>test</th>\n",
       "      <th>predictions</th>\n",
       "    </tr>\n",
       "  </thead>\n",
       "  <tbody>\n",
       "    <tr>\n",
       "      <th>64673</th>\n",
       "      <td>2</td>\n",
       "      <td>2</td>\n",
       "    </tr>\n",
       "    <tr>\n",
       "      <th>169571</th>\n",
       "      <td>8</td>\n",
       "      <td>8</td>\n",
       "    </tr>\n",
       "    <tr>\n",
       "      <th>22359</th>\n",
       "      <td>2</td>\n",
       "      <td>2</td>\n",
       "    </tr>\n",
       "    <tr>\n",
       "      <th>105158</th>\n",
       "      <td>5</td>\n",
       "      <td>5</td>\n",
       "    </tr>\n",
       "    <tr>\n",
       "      <th>180742</th>\n",
       "      <td>8</td>\n",
       "      <td>8</td>\n",
       "    </tr>\n",
       "  </tbody>\n",
       "</table>\n",
       "</div>"
      ],
      "text/plain": [
       "        test  predictions\n",
       "64673      2            2\n",
       "169571     8            8\n",
       "22359      2            2\n",
       "105158     5            5\n",
       "180742     8            8"
      ]
     },
     "execution_count": 49,
     "metadata": {},
     "output_type": "execute_result"
    }
   ],
   "source": [
    "df = pd.DataFrame({\"test\":y_test,\"predictions\":y_pred})\n",
    "df.head(5)"
   ]
  },
  {
   "cell_type": "markdown",
   "id": "7e6c4a71",
   "metadata": {},
   "source": [
    "## Predict the missing occupation\n",
    "## data is already scaled"
   ]
  },
  {
   "cell_type": "code",
   "execution_count": 50,
   "id": "f62cbca6",
   "metadata": {},
   "outputs": [
    {
     "data": {
      "text/plain": [
       "(134203, 18)"
      ]
     },
     "execution_count": 50,
     "metadata": {},
     "output_type": "execute_result"
    }
   ],
   "source": [
    "null_dataset.shape"
   ]
  },
  {
   "cell_type": "code",
   "execution_count": 51,
   "id": "bff61df8",
   "metadata": {},
   "outputs": [
    {
     "name": "stdout",
     "output_type": "stream",
     "text": [
      "134203\n"
     ]
    },
    {
     "data": {
      "text/plain": [
       "array([ 5,  5,  7,  7,  7, 11, 11, 11, 11,  4,  4,  4,  4,  4,  4,  4,  4,\n",
       "        8,  8,  8,  8,  8,  8,  8,  5,  5,  5,  5,  5,  5], dtype=int64)"
      ]
     },
     "execution_count": 51,
     "metadata": {},
     "output_type": "execute_result"
    }
   ],
   "source": [
    "# drop the \"occupation_type\" column and we replace it with our predictions\n",
    "new_null_dataset = null_dataset.drop([\"occupation_type\",'id'], axis=1)\n",
    "new_pred = clf.predict(new_null_dataset)\n",
    "print(len(new_pred))\n",
    "new_pred[:30]"
   ]
  },
  {
   "cell_type": "code",
   "execution_count": 52,
   "id": "4b3f5ba9",
   "metadata": {},
   "outputs": [
    {
     "data": {
      "text/plain": [
       "(134203, 16)"
      ]
     },
     "execution_count": 52,
     "metadata": {},
     "output_type": "execute_result"
    }
   ],
   "source": [
    "new_null_dataset.shape"
   ]
  },
  {
   "cell_type": "code",
   "execution_count": 53,
   "id": "28eb44fb",
   "metadata": {},
   "outputs": [],
   "source": [
    "null_dataset = null_dataset.drop('occupation_type', axis=1)\n",
    "null_dataset.insert(10,'occupation_type', new_pred)"
   ]
  },
  {
   "cell_type": "code",
   "execution_count": 54,
   "id": "1560a336",
   "metadata": {},
   "outputs": [
    {
     "name": "stdout",
     "output_type": "stream",
     "text": [
      "(134203, 18)\n"
     ]
    },
    {
     "data": {
      "text/plain": [
       "id                     0\n",
       "code_gender            0\n",
       "flag_own_car           0\n",
       "flag_own_realty        0\n",
       "cnt_children           0\n",
       "name_income_type       0\n",
       "name_education_type    0\n",
       "name_family_status     0\n",
       "name_housing_type      0\n",
       "flag_mobil             0\n",
       "occupation_type        0\n",
       "flag_work_phone        0\n",
       "flag_phone             0\n",
       "flag_email             0\n",
       "cnt_fam_members        0\n",
       "age_years              0\n",
       "months_employed        0\n",
       "amt_income_total       0\n",
       "dtype: int64"
      ]
     },
     "execution_count": 54,
     "metadata": {},
     "output_type": "execute_result"
    }
   ],
   "source": [
    "print(null_dataset.shape)\n",
    "null_dataset.isna().sum()"
   ]
  },
  {
   "cell_type": "markdown",
   "id": "563e31c0",
   "metadata": {},
   "source": [
    "### Confirm no more null values"
   ]
  },
  {
   "cell_type": "code",
   "execution_count": 55,
   "id": "f9b37c28",
   "metadata": {},
   "outputs": [
    {
     "data": {
      "text/plain": [
       "(0, 18)"
      ]
     },
     "execution_count": 55,
     "metadata": {},
     "output_type": "execute_result"
    }
   ],
   "source": [
    "null_dataset[null_dataset['occupation_type'].isna()].shape"
   ]
  },
  {
   "cell_type": "markdown",
   "id": "794056ab",
   "metadata": {},
   "source": [
    "### Combine both the null_dataset and not_null_dataset into one Dataframe"
   ]
  },
  {
   "cell_type": "code",
   "execution_count": 56,
   "id": "baa81126",
   "metadata": {},
   "outputs": [
    {
     "data": {
      "text/html": [
       "<div>\n",
       "<style scoped>\n",
       "    .dataframe tbody tr th:only-of-type {\n",
       "        vertical-align: middle;\n",
       "    }\n",
       "\n",
       "    .dataframe tbody tr th {\n",
       "        vertical-align: top;\n",
       "    }\n",
       "\n",
       "    .dataframe thead th {\n",
       "        text-align: right;\n",
       "    }\n",
       "</style>\n",
       "<table border=\"1\" class=\"dataframe\">\n",
       "  <thead>\n",
       "    <tr style=\"text-align: right;\">\n",
       "      <th></th>\n",
       "      <th>id</th>\n",
       "      <th>code_gender</th>\n",
       "      <th>flag_own_car</th>\n",
       "      <th>flag_own_realty</th>\n",
       "      <th>cnt_children</th>\n",
       "      <th>name_income_type</th>\n",
       "      <th>name_education_type</th>\n",
       "      <th>name_family_status</th>\n",
       "      <th>name_housing_type</th>\n",
       "      <th>flag_mobil</th>\n",
       "      <th>occupation_type</th>\n",
       "      <th>flag_work_phone</th>\n",
       "      <th>flag_phone</th>\n",
       "      <th>flag_email</th>\n",
       "      <th>cnt_fam_members</th>\n",
       "      <th>age_years</th>\n",
       "      <th>months_employed</th>\n",
       "      <th>amt_income_total</th>\n",
       "    </tr>\n",
       "  </thead>\n",
       "  <tbody>\n",
       "    <tr>\n",
       "      <th>0</th>\n",
       "      <td>5008804</td>\n",
       "      <td>1</td>\n",
       "      <td>1</td>\n",
       "      <td>1</td>\n",
       "      <td>0</td>\n",
       "      <td>1</td>\n",
       "      <td>2</td>\n",
       "      <td>1</td>\n",
       "      <td>1</td>\n",
       "      <td>1</td>\n",
       "      <td>5</td>\n",
       "      <td>1</td>\n",
       "      <td>0</td>\n",
       "      <td>0</td>\n",
       "      <td>2.0</td>\n",
       "      <td>0.26</td>\n",
       "      <td>0.012403</td>\n",
       "      <td>0.059697</td>\n",
       "    </tr>\n",
       "    <tr>\n",
       "      <th>1</th>\n",
       "      <td>5008805</td>\n",
       "      <td>1</td>\n",
       "      <td>1</td>\n",
       "      <td>1</td>\n",
       "      <td>0</td>\n",
       "      <td>1</td>\n",
       "      <td>2</td>\n",
       "      <td>1</td>\n",
       "      <td>1</td>\n",
       "      <td>1</td>\n",
       "      <td>5</td>\n",
       "      <td>1</td>\n",
       "      <td>0</td>\n",
       "      <td>0</td>\n",
       "      <td>2.0</td>\n",
       "      <td>0.26</td>\n",
       "      <td>0.012403</td>\n",
       "      <td>0.059697</td>\n",
       "    </tr>\n",
       "    <tr>\n",
       "      <th>7</th>\n",
       "      <td>5008812</td>\n",
       "      <td>0</td>\n",
       "      <td>0</td>\n",
       "      <td>1</td>\n",
       "      <td>0</td>\n",
       "      <td>3</td>\n",
       "      <td>2</td>\n",
       "      <td>4</td>\n",
       "      <td>2</td>\n",
       "      <td>1</td>\n",
       "      <td>7</td>\n",
       "      <td>0</td>\n",
       "      <td>0</td>\n",
       "      <td>0</td>\n",
       "      <td>1.0</td>\n",
       "      <td>0.84</td>\n",
       "      <td>1.000000</td>\n",
       "      <td>0.038281</td>\n",
       "    </tr>\n",
       "    <tr>\n",
       "      <th>8</th>\n",
       "      <td>5008813</td>\n",
       "      <td>0</td>\n",
       "      <td>0</td>\n",
       "      <td>1</td>\n",
       "      <td>0</td>\n",
       "      <td>3</td>\n",
       "      <td>2</td>\n",
       "      <td>4</td>\n",
       "      <td>2</td>\n",
       "      <td>1</td>\n",
       "      <td>7</td>\n",
       "      <td>0</td>\n",
       "      <td>0</td>\n",
       "      <td>0</td>\n",
       "      <td>1.0</td>\n",
       "      <td>0.84</td>\n",
       "      <td>1.000000</td>\n",
       "      <td>0.038281</td>\n",
       "    </tr>\n",
       "    <tr>\n",
       "      <th>9</th>\n",
       "      <td>5008814</td>\n",
       "      <td>0</td>\n",
       "      <td>0</td>\n",
       "      <td>1</td>\n",
       "      <td>0</td>\n",
       "      <td>3</td>\n",
       "      <td>2</td>\n",
       "      <td>4</td>\n",
       "      <td>2</td>\n",
       "      <td>1</td>\n",
       "      <td>7</td>\n",
       "      <td>0</td>\n",
       "      <td>0</td>\n",
       "      <td>0</td>\n",
       "      <td>1.0</td>\n",
       "      <td>0.84</td>\n",
       "      <td>1.000000</td>\n",
       "      <td>0.038281</td>\n",
       "    </tr>\n",
       "  </tbody>\n",
       "</table>\n",
       "</div>"
      ],
      "text/plain": [
       "        id  code_gender  flag_own_car  flag_own_realty  cnt_children  \\\n",
       "0  5008804            1             1                1             0   \n",
       "1  5008805            1             1                1             0   \n",
       "7  5008812            0             0                1             0   \n",
       "8  5008813            0             0                1             0   \n",
       "9  5008814            0             0                1             0   \n",
       "\n",
       "   name_income_type  name_education_type  name_family_status  \\\n",
       "0                 1                    2                   1   \n",
       "1                 1                    2                   1   \n",
       "7                 3                    2                   4   \n",
       "8                 3                    2                   4   \n",
       "9                 3                    2                   4   \n",
       "\n",
       "   name_housing_type  flag_mobil  occupation_type  flag_work_phone  \\\n",
       "0                  1           1                5                1   \n",
       "1                  1           1                5                1   \n",
       "7                  2           1                7                0   \n",
       "8                  2           1                7                0   \n",
       "9                  2           1                7                0   \n",
       "\n",
       "   flag_phone  flag_email  cnt_fam_members  age_years  months_employed  \\\n",
       "0           0           0              2.0       0.26         0.012403   \n",
       "1           0           0              2.0       0.26         0.012403   \n",
       "7           0           0              1.0       0.84         1.000000   \n",
       "8           0           0              1.0       0.84         1.000000   \n",
       "9           0           0              1.0       0.84         1.000000   \n",
       "\n",
       "   amt_income_total  \n",
       "0          0.059697  \n",
       "1          0.059697  \n",
       "7          0.038281  \n",
       "8          0.038281  \n",
       "9          0.038281  "
      ]
     },
     "execution_count": 56,
     "metadata": {},
     "output_type": "execute_result"
    }
   ],
   "source": [
    "data = pd.concat([null_dataset,not_null_dataset], axis=0)\n",
    "data.head()"
   ]
  },
  {
   "cell_type": "code",
   "execution_count": 57,
   "id": "5512b2b9",
   "metadata": {},
   "outputs": [
    {
     "data": {
      "text/plain": [
       "id                     0\n",
       "code_gender            0\n",
       "flag_own_car           0\n",
       "flag_own_realty        0\n",
       "cnt_children           0\n",
       "name_income_type       0\n",
       "name_education_type    0\n",
       "name_family_status     0\n",
       "name_housing_type      0\n",
       "flag_mobil             0\n",
       "occupation_type        0\n",
       "flag_work_phone        0\n",
       "flag_phone             0\n",
       "flag_email             0\n",
       "cnt_fam_members        0\n",
       "age_years              0\n",
       "months_employed        0\n",
       "amt_income_total       0\n",
       "dtype: int64"
      ]
     },
     "execution_count": 57,
     "metadata": {},
     "output_type": "execute_result"
    }
   ],
   "source": [
    "data.isna().sum()"
   ]
  },
  {
   "cell_type": "markdown",
   "id": "4d227fcd",
   "metadata": {},
   "source": [
    "## No more null values in the dataset. Wuhu.................."
   ]
  },
  {
   "cell_type": "markdown",
   "id": "73f907f6",
   "metadata": {},
   "source": [
    "#### Check if the dataframe shape is the same as our original dataframe\n",
    "#### In our case, both dataframes have the same shape"
   ]
  },
  {
   "cell_type": "code",
   "execution_count": 58,
   "id": "82f467da",
   "metadata": {},
   "outputs": [
    {
     "data": {
      "text/plain": [
       "(438557, 18)"
      ]
     },
     "execution_count": 58,
     "metadata": {},
     "output_type": "execute_result"
    }
   ],
   "source": [
    "data.shape"
   ]
  },
  {
   "cell_type": "markdown",
   "id": "97ba1871",
   "metadata": {},
   "source": [
    "# <a name=\"data_visualization\"> </a> Data Visualization"
   ]
  },
  {
   "cell_type": "code",
   "execution_count": 59,
   "id": "303c5a35",
   "metadata": {},
   "outputs": [
    {
     "data": {
      "image/png": "[encoded data removed]",
      "text/plain": [
       "<Figure size 1440x576 with 2 Axes>"
      ]
     },
     "metadata": {},
     "output_type": "display_data"
    }
   ],
   "source": [
    "visual_data = data.drop('id', axis=1)\n",
    "corr_matrix= visual_data.corr(method='pearson')  # default\n",
    "fig, ax = plt.subplots(figsize=(20, 8))\n",
    "ax = sns.heatmap(corr_matrix, annot=True)\n",
    "plt.show()"
   ]
  },
  {
   "cell_type": "markdown",
   "id": "6666e88b",
   "metadata": {},
   "source": [
    "# <a name=\"records_data\"> </a> Records Data"
   ]
  },
  {
   "cell_type": "code",
   "execution_count": 60,
   "id": "c277c611",
   "metadata": {},
   "outputs": [
    {
     "data": {
      "text/html": [
       "<div>\n",
       "<style scoped>\n",
       "    .dataframe tbody tr th:only-of-type {\n",
       "        vertical-align: middle;\n",
       "    }\n",
       "\n",
       "    .dataframe tbody tr th {\n",
       "        vertical-align: top;\n",
       "    }\n",
       "\n",
       "    .dataframe thead th {\n",
       "        text-align: right;\n",
       "    }\n",
       "</style>\n",
       "<table border=\"1\" class=\"dataframe\">\n",
       "  <thead>\n",
       "    <tr style=\"text-align: right;\">\n",
       "      <th></th>\n",
       "      <th>ID</th>\n",
       "      <th>MONTHS_BALANCE</th>\n",
       "      <th>STATUS</th>\n",
       "    </tr>\n",
       "  </thead>\n",
       "  <tbody>\n",
       "    <tr>\n",
       "      <th>0</th>\n",
       "      <td>5001711</td>\n",
       "      <td>0</td>\n",
       "      <td>X</td>\n",
       "    </tr>\n",
       "    <tr>\n",
       "      <th>1</th>\n",
       "      <td>5001711</td>\n",
       "      <td>-1</td>\n",
       "      <td>0</td>\n",
       "    </tr>\n",
       "    <tr>\n",
       "      <th>2</th>\n",
       "      <td>5001711</td>\n",
       "      <td>-2</td>\n",
       "      <td>0</td>\n",
       "    </tr>\n",
       "    <tr>\n",
       "      <th>3</th>\n",
       "      <td>5001711</td>\n",
       "      <td>-3</td>\n",
       "      <td>0</td>\n",
       "    </tr>\n",
       "    <tr>\n",
       "      <th>4</th>\n",
       "      <td>5001712</td>\n",
       "      <td>0</td>\n",
       "      <td>C</td>\n",
       "    </tr>\n",
       "  </tbody>\n",
       "</table>\n",
       "</div>"
      ],
      "text/plain": [
       "        ID  MONTHS_BALANCE STATUS\n",
       "0  5001711               0      X\n",
       "1  5001711              -1      0\n",
       "2  5001711              -2      0\n",
       "3  5001711              -3      0\n",
       "4  5001712               0      C"
      ]
     },
     "execution_count": 60,
     "metadata": {},
     "output_type": "execute_result"
    }
   ],
   "source": [
    "credit = pd.read_csv(\"<path-to-file>\\\\credit_record.csv\")\n",
    "credit.head()"
   ]
  },
  {
   "cell_type": "code",
   "execution_count": 61,
   "id": "0143995f",
   "metadata": {},
   "outputs": [
    {
     "data": {
      "text/plain": [
       "Index(['id', 'months_balance', 'status'], dtype='object')"
      ]
     },
     "execution_count": 61,
     "metadata": {},
     "output_type": "execute_result"
    }
   ],
   "source": [
    "# change column names to lower case\n",
    "cols = []\n",
    "for column in credit.columns:\n",
    "    cols.append(column.lower())\n",
    "    \n",
    "credit.columns = cols\n",
    "del cols\n",
    "credit.columns"
   ]
  },
  {
   "cell_type": "code",
   "execution_count": 62,
   "id": "988a7f4c",
   "metadata": {},
   "outputs": [
    {
     "data": {
      "text/plain": [
       "id                0.0\n",
       "months_balance    0.0\n",
       "status            0.0\n",
       "dtype: float64"
      ]
     },
     "execution_count": 62,
     "metadata": {},
     "output_type": "execute_result"
    }
   ],
   "source": [
    "# CHECK FOR NaN\n",
    "credit.isna().sum()/len(credit)"
   ]
  },
  {
   "cell_type": "markdown",
   "id": "ec442b8a",
   "metadata": {},
   "source": [
    "## There are no NaNs. Wuhu..........."
   ]
  },
  {
   "cell_type": "code",
   "execution_count": 63,
   "id": "cfc85a7e",
   "metadata": {},
   "outputs": [],
   "source": [
    "# FROM THE DATA DESCRIPTION\n",
    "\n",
    "#     0: 1-29 days past due \n",
    "#     1: 30-59 days past due \n",
    "#     2: 60-89 days overdue \n",
    "#     3: 90-119 days overdue \n",
    "#     4: 120-149 days overdue \n",
    "#     5: Overdue or bad debts, write-offs for more than 150 days \n",
    "#     C: paid off that month \n",
    "#     X: No loan for the month\n"
   ]
  },
  {
   "cell_type": "markdown",
   "id": "da3e13ce",
   "metadata": {},
   "source": [
    "## European banks nomally charge customers if they are loan are over due by 60 days\n",
    "#### Linkhttps://www.bankbazaar.com/credit-card/reasons-why-you-should-avoid-late-credit-card-payments.h \n",
    "## I will consider 30-59 days as defaulting"
   ]
  },
  {
   "cell_type": "code",
   "execution_count": 64,
   "id": "5ce77fb6",
   "metadata": {},
   "outputs": [],
   "source": [
    "# New Categorisation:\n",
    "\n",
    "# 0: No loan X\n",
    "# 1: paid off C\n",
    "# 2: 1-29 days past due 0 \n",
    "# 3: 30-59 days past due 1\n",
    "# 4: 60-89 days overdue 2\n",
    "# 5: 90-119 days overdue 3\n",
    "# 6: 120-149 days overdue 4 \n",
    "# 7: Overdue or bad debts, write-offs for more than 150 day 5\n"
   ]
  },
  {
   "cell_type": "code",
   "execution_count": 65,
   "id": "b456754b",
   "metadata": {},
   "outputs": [
    {
     "data": {
      "text/plain": [
       "0    0\n",
       "1    2\n",
       "2    2\n",
       "3    2\n",
       "4    1\n",
       "Name: status, dtype: object"
      ]
     },
     "execution_count": 65,
     "metadata": {},
     "output_type": "execute_result"
    }
   ],
   "source": [
    "credit[\"status\"] = credit[\"status\"].map({\"X\": \"0\", \"C\": \"1\",'0':'2','1':'3','2':'4','3':'5','4':'6','5':'7'})\n",
    "credit[\"status\"] .head()"
   ]
  },
  {
   "cell_type": "code",
   "execution_count": 66,
   "id": "22981907",
   "metadata": {},
   "outputs": [
    {
     "data": {
      "text/plain": [
       "id                 int64\n",
       "months_balance     int64\n",
       "status            object\n",
       "dtype: object"
      ]
     },
     "execution_count": 66,
     "metadata": {},
     "output_type": "execute_result"
    }
   ],
   "source": [
    "# Check data types\n",
    "credit.dtypes"
   ]
  },
  {
   "cell_type": "code",
   "execution_count": 67,
   "id": "73acad35",
   "metadata": {},
   "outputs": [
    {
     "data": {
      "text/plain": [
       "id                int64\n",
       "months_balance    int64\n",
       "status            int32\n",
       "dtype: object"
      ]
     },
     "execution_count": 67,
     "metadata": {},
     "output_type": "execute_result"
    }
   ],
   "source": [
    "# convert \"status\" column to numeric\n",
    "credit[\"status\"] = credit[\"status\"].astype(int)\n",
    "credit.dtypes"
   ]
  },
  {
   "cell_type": "markdown",
   "id": "acdd8b11",
   "metadata": {},
   "source": [
    "### Every customer whose loan is either cleared or late by less than 59 days, we approve the application\n",
    "### Create a new column \"creteria\" with two categories. 1 - Approved and 0 - Denied"
   ]
  },
  {
   "cell_type": "code",
   "execution_count": 68,
   "id": "17cd9bee",
   "metadata": {},
   "outputs": [
    {
     "data": {
      "text/html": [
       "<div>\n",
       "<style scoped>\n",
       "    .dataframe tbody tr th:only-of-type {\n",
       "        vertical-align: middle;\n",
       "    }\n",
       "\n",
       "    .dataframe tbody tr th {\n",
       "        vertical-align: top;\n",
       "    }\n",
       "\n",
       "    .dataframe thead th {\n",
       "        text-align: right;\n",
       "    }\n",
       "</style>\n",
       "<table border=\"1\" class=\"dataframe\">\n",
       "  <thead>\n",
       "    <tr style=\"text-align: right;\">\n",
       "      <th></th>\n",
       "      <th>id</th>\n",
       "      <th>months_balance</th>\n",
       "      <th>status</th>\n",
       "      <th>criteria</th>\n",
       "    </tr>\n",
       "  </thead>\n",
       "  <tbody>\n",
       "    <tr>\n",
       "      <th>0</th>\n",
       "      <td>5001711</td>\n",
       "      <td>0</td>\n",
       "      <td>0</td>\n",
       "      <td>1</td>\n",
       "    </tr>\n",
       "    <tr>\n",
       "      <th>1</th>\n",
       "      <td>5001711</td>\n",
       "      <td>-1</td>\n",
       "      <td>2</td>\n",
       "      <td>1</td>\n",
       "    </tr>\n",
       "    <tr>\n",
       "      <th>2</th>\n",
       "      <td>5001711</td>\n",
       "      <td>-2</td>\n",
       "      <td>2</td>\n",
       "      <td>1</td>\n",
       "    </tr>\n",
       "    <tr>\n",
       "      <th>3</th>\n",
       "      <td>5001711</td>\n",
       "      <td>-3</td>\n",
       "      <td>2</td>\n",
       "      <td>1</td>\n",
       "    </tr>\n",
       "    <tr>\n",
       "      <th>4</th>\n",
       "      <td>5001712</td>\n",
       "      <td>0</td>\n",
       "      <td>1</td>\n",
       "      <td>1</td>\n",
       "    </tr>\n",
       "  </tbody>\n",
       "</table>\n",
       "</div>"
      ],
      "text/plain": [
       "        id  months_balance  status  criteria\n",
       "0  5001711               0       0         1\n",
       "1  5001711              -1       2         1\n",
       "2  5001711              -2       2         1\n",
       "3  5001711              -3       2         1\n",
       "4  5001712               0       1         1"
      ]
     },
     "execution_count": 68,
     "metadata": {},
     "output_type": "execute_result"
    }
   ],
   "source": [
    "# Creating a new column with the criterion\n",
    "credit['criteria'] = np.where(credit['status'] < 3, 1,0)\n",
    "credit.head()"
   ]
  },
  {
   "cell_type": "code",
   "execution_count": 69,
   "id": "e9788139",
   "metadata": {},
   "outputs": [
    {
     "data": {
      "text/plain": [
       "(1048575, 4)"
      ]
     },
     "execution_count": 69,
     "metadata": {},
     "output_type": "execute_result"
    }
   ],
   "source": [
    "credit.shape"
   ]
  },
  {
   "cell_type": "markdown",
   "id": "864be84f",
   "metadata": {},
   "source": [
    "### Credit dataframe has a different shape to the application dataframe\n",
    "### Checking for duplicates\n",
    "### There are only 45,985 customers (unique ids)"
   ]
  },
  {
   "cell_type": "code",
   "execution_count": 70,
   "id": "91723a68",
   "metadata": {},
   "outputs": [
    {
     "data": {
      "text/plain": [
       "45985"
      ]
     },
     "execution_count": 70,
     "metadata": {},
     "output_type": "execute_result"
    }
   ],
   "source": [
    "credit['id'].nunique()"
   ]
  },
  {
   "cell_type": "code",
   "execution_count": 71,
   "id": "e9309ab3",
   "metadata": {},
   "outputs": [
    {
     "data": {
      "text/plain": [
       "0"
      ]
     },
     "execution_count": 71,
     "metadata": {},
     "output_type": "execute_result"
    }
   ],
   "source": [
    "credit['id'].isna().sum()"
   ]
  },
  {
   "cell_type": "markdown",
   "id": "38b988c2",
   "metadata": {},
   "source": [
    "### I sort the column by individual ID and then take the mean of all the approval values. \n",
    "### If an ID has an overdue payment, the mean of approval is < 1.\n",
    "### Anyone with a mean lower than one is not eligible (Every member with an overdue payment is not eligible for a new credit card/loan)"
   ]
  },
  {
   "cell_type": "code",
   "execution_count": 72,
   "id": "aabc7d54",
   "metadata": {},
   "outputs": [
    {
     "data": {
      "text/html": [
       "<div>\n",
       "<style scoped>\n",
       "    .dataframe tbody tr th:only-of-type {\n",
       "        vertical-align: middle;\n",
       "    }\n",
       "\n",
       "    .dataframe tbody tr th {\n",
       "        vertical-align: top;\n",
       "    }\n",
       "\n",
       "    .dataframe thead th {\n",
       "        text-align: right;\n",
       "    }\n",
       "</style>\n",
       "<table border=\"1\" class=\"dataframe\">\n",
       "  <thead>\n",
       "    <tr style=\"text-align: right;\">\n",
       "      <th></th>\n",
       "      <th>id</th>\n",
       "      <th>criteria</th>\n",
       "    </tr>\n",
       "  </thead>\n",
       "  <tbody>\n",
       "    <tr>\n",
       "      <th>0</th>\n",
       "      <td>5001711</td>\n",
       "      <td>1</td>\n",
       "    </tr>\n",
       "    <tr>\n",
       "      <th>1</th>\n",
       "      <td>5001711</td>\n",
       "      <td>1</td>\n",
       "    </tr>\n",
       "    <tr>\n",
       "      <th>2</th>\n",
       "      <td>5001711</td>\n",
       "      <td>1</td>\n",
       "    </tr>\n",
       "    <tr>\n",
       "      <th>3</th>\n",
       "      <td>5001711</td>\n",
       "      <td>1</td>\n",
       "    </tr>\n",
       "    <tr>\n",
       "      <th>4</th>\n",
       "      <td>5001712</td>\n",
       "      <td>1</td>\n",
       "    </tr>\n",
       "  </tbody>\n",
       "</table>\n",
       "</div>"
      ],
      "text/plain": [
       "        id  criteria\n",
       "0  5001711         1\n",
       "1  5001711         1\n",
       "2  5001711         1\n",
       "3  5001711         1\n",
       "4  5001712         1"
      ]
     },
     "execution_count": 72,
     "metadata": {},
     "output_type": "execute_result"
    }
   ],
   "source": [
    "# Filter out only column we need\n",
    "approval = credit[['id','criteria']]\n",
    "approval.head()"
   ]
  },
  {
   "cell_type": "code",
   "execution_count": 73,
   "id": "16412136",
   "metadata": {},
   "outputs": [
    {
     "data": {
      "text/html": [
       "<div>\n",
       "<style scoped>\n",
       "    .dataframe tbody tr th:only-of-type {\n",
       "        vertical-align: middle;\n",
       "    }\n",
       "\n",
       "    .dataframe tbody tr th {\n",
       "        vertical-align: top;\n",
       "    }\n",
       "\n",
       "    .dataframe thead th {\n",
       "        text-align: right;\n",
       "    }\n",
       "</style>\n",
       "<table border=\"1\" class=\"dataframe\">\n",
       "  <thead>\n",
       "    <tr style=\"text-align: right;\">\n",
       "      <th></th>\n",
       "      <th>id</th>\n",
       "      <th>criteria</th>\n",
       "    </tr>\n",
       "  </thead>\n",
       "  <tbody>\n",
       "    <tr>\n",
       "      <th>0</th>\n",
       "      <td>5001711</td>\n",
       "      <td>1.0</td>\n",
       "    </tr>\n",
       "    <tr>\n",
       "      <th>1</th>\n",
       "      <td>5001712</td>\n",
       "      <td>1.0</td>\n",
       "    </tr>\n",
       "    <tr>\n",
       "      <th>2</th>\n",
       "      <td>5001713</td>\n",
       "      <td>1.0</td>\n",
       "    </tr>\n",
       "    <tr>\n",
       "      <th>3</th>\n",
       "      <td>5001714</td>\n",
       "      <td>1.0</td>\n",
       "    </tr>\n",
       "    <tr>\n",
       "      <th>4</th>\n",
       "      <td>5001715</td>\n",
       "      <td>1.0</td>\n",
       "    </tr>\n",
       "  </tbody>\n",
       "</table>\n",
       "</div>"
      ],
      "text/plain": [
       "        id  criteria\n",
       "0  5001711       1.0\n",
       "1  5001712       1.0\n",
       "2  5001713       1.0\n",
       "3  5001714       1.0\n",
       "4  5001715       1.0"
      ]
     },
     "execution_count": 73,
     "metadata": {},
     "output_type": "execute_result"
    }
   ],
   "source": [
    "# as_index=False tells pandas not to set the groupby column as an index but leave it as a column\n",
    "check_approval = approval.groupby('id',as_index=False,).mean()\n",
    "check_approval.head()"
   ]
  },
  {
   "cell_type": "code",
   "execution_count": 74,
   "id": "a5caba1e",
   "metadata": {},
   "outputs": [
    {
     "data": {
      "text/html": [
       "<div>\n",
       "<style scoped>\n",
       "    .dataframe tbody tr th:only-of-type {\n",
       "        vertical-align: middle;\n",
       "    }\n",
       "\n",
       "    .dataframe tbody tr th {\n",
       "        vertical-align: top;\n",
       "    }\n",
       "\n",
       "    .dataframe thead th {\n",
       "        text-align: right;\n",
       "    }\n",
       "</style>\n",
       "<table border=\"1\" class=\"dataframe\">\n",
       "  <thead>\n",
       "    <tr style=\"text-align: right;\">\n",
       "      <th></th>\n",
       "      <th>id</th>\n",
       "      <th>criteria</th>\n",
       "    </tr>\n",
       "  </thead>\n",
       "  <tbody>\n",
       "    <tr>\n",
       "      <th>6</th>\n",
       "      <td>5001718</td>\n",
       "      <td>0.948718</td>\n",
       "    </tr>\n",
       "    <tr>\n",
       "      <th>8</th>\n",
       "      <td>5001720</td>\n",
       "      <td>0.805556</td>\n",
       "    </tr>\n",
       "    <tr>\n",
       "      <th>35</th>\n",
       "      <td>5001757</td>\n",
       "      <td>0.952381</td>\n",
       "    </tr>\n",
       "    <tr>\n",
       "      <th>57</th>\n",
       "      <td>5001786</td>\n",
       "      <td>0.983051</td>\n",
       "    </tr>\n",
       "    <tr>\n",
       "      <th>63</th>\n",
       "      <td>5001792</td>\n",
       "      <td>0.880000</td>\n",
       "    </tr>\n",
       "    <tr>\n",
       "      <th>64</th>\n",
       "      <td>5001793</td>\n",
       "      <td>0.740741</td>\n",
       "    </tr>\n",
       "    <tr>\n",
       "      <th>78</th>\n",
       "      <td>5001816</td>\n",
       "      <td>0.916667</td>\n",
       "    </tr>\n",
       "    <tr>\n",
       "      <th>79</th>\n",
       "      <td>5001817</td>\n",
       "      <td>0.818182</td>\n",
       "    </tr>\n",
       "    <tr>\n",
       "      <th>94</th>\n",
       "      <td>5001836</td>\n",
       "      <td>0.947368</td>\n",
       "    </tr>\n",
       "    <tr>\n",
       "      <th>102</th>\n",
       "      <td>5001844</td>\n",
       "      <td>0.979167</td>\n",
       "    </tr>\n",
       "  </tbody>\n",
       "</table>\n",
       "</div>"
      ],
      "text/plain": [
       "          id  criteria\n",
       "6    5001718  0.948718\n",
       "8    5001720  0.805556\n",
       "35   5001757  0.952381\n",
       "57   5001786  0.983051\n",
       "63   5001792  0.880000\n",
       "64   5001793  0.740741\n",
       "78   5001816  0.916667\n",
       "79   5001817  0.818182\n",
       "94   5001836  0.947368\n",
       "102  5001844  0.979167"
      ]
     },
     "execution_count": 74,
     "metadata": {},
     "output_type": "execute_result"
    }
   ],
   "source": [
    "check_approval[check_approval['criteria'] != 1].head(10)"
   ]
  },
  {
   "cell_type": "code",
   "execution_count": 75,
   "id": "1e47f2bf",
   "metadata": {},
   "outputs": [
    {
     "data": {
      "text/html": [
       "<div>\n",
       "<style scoped>\n",
       "    .dataframe tbody tr th:only-of-type {\n",
       "        vertical-align: middle;\n",
       "    }\n",
       "\n",
       "    .dataframe tbody tr th {\n",
       "        vertical-align: top;\n",
       "    }\n",
       "\n",
       "    .dataframe thead th {\n",
       "        text-align: right;\n",
       "    }\n",
       "</style>\n",
       "<table border=\"1\" class=\"dataframe\">\n",
       "  <thead>\n",
       "    <tr style=\"text-align: right;\">\n",
       "      <th></th>\n",
       "      <th>id</th>\n",
       "      <th>criteria</th>\n",
       "      <th>eligibility</th>\n",
       "    </tr>\n",
       "  </thead>\n",
       "  <tbody>\n",
       "    <tr>\n",
       "      <th>0</th>\n",
       "      <td>5001711</td>\n",
       "      <td>1.0</td>\n",
       "      <td>1</td>\n",
       "    </tr>\n",
       "    <tr>\n",
       "      <th>1</th>\n",
       "      <td>5001712</td>\n",
       "      <td>1.0</td>\n",
       "      <td>1</td>\n",
       "    </tr>\n",
       "    <tr>\n",
       "      <th>2</th>\n",
       "      <td>5001713</td>\n",
       "      <td>1.0</td>\n",
       "      <td>1</td>\n",
       "    </tr>\n",
       "    <tr>\n",
       "      <th>3</th>\n",
       "      <td>5001714</td>\n",
       "      <td>1.0</td>\n",
       "      <td>1</td>\n",
       "    </tr>\n",
       "    <tr>\n",
       "      <th>4</th>\n",
       "      <td>5001715</td>\n",
       "      <td>1.0</td>\n",
       "      <td>1</td>\n",
       "    </tr>\n",
       "  </tbody>\n",
       "</table>\n",
       "</div>"
      ],
      "text/plain": [
       "        id  criteria  eligibility\n",
       "0  5001711       1.0            1\n",
       "1  5001712       1.0            1\n",
       "2  5001713       1.0            1\n",
       "3  5001714       1.0            1\n",
       "4  5001715       1.0            1"
      ]
     },
     "execution_count": 75,
     "metadata": {},
     "output_type": "execute_result"
    }
   ],
   "source": [
    "# Creating the final column for eligibility\n",
    "# if criterial ==1, eligibility =1\n",
    "# else if criteria <1, eligibility is zero\n",
    "check_approval['eligibility'] = np.where(check_approval['criteria'] == 1, 1,0)\n",
    "check_approval.head()"
   ]
  },
  {
   "cell_type": "code",
   "execution_count": 76,
   "id": "def97b81",
   "metadata": {},
   "outputs": [
    {
     "data": {
      "text/html": [
       "<div>\n",
       "<style scoped>\n",
       "    .dataframe tbody tr th:only-of-type {\n",
       "        vertical-align: middle;\n",
       "    }\n",
       "\n",
       "    .dataframe tbody tr th {\n",
       "        vertical-align: top;\n",
       "    }\n",
       "\n",
       "    .dataframe thead th {\n",
       "        text-align: right;\n",
       "    }\n",
       "</style>\n",
       "<table border=\"1\" class=\"dataframe\">\n",
       "  <thead>\n",
       "    <tr style=\"text-align: right;\">\n",
       "      <th></th>\n",
       "      <th>id</th>\n",
       "      <th>eligibility</th>\n",
       "    </tr>\n",
       "  </thead>\n",
       "  <tbody>\n",
       "    <tr>\n",
       "      <th>0</th>\n",
       "      <td>5001711</td>\n",
       "      <td>1</td>\n",
       "    </tr>\n",
       "    <tr>\n",
       "      <th>1</th>\n",
       "      <td>5001712</td>\n",
       "      <td>1</td>\n",
       "    </tr>\n",
       "    <tr>\n",
       "      <th>2</th>\n",
       "      <td>5001713</td>\n",
       "      <td>1</td>\n",
       "    </tr>\n",
       "    <tr>\n",
       "      <th>3</th>\n",
       "      <td>5001714</td>\n",
       "      <td>1</td>\n",
       "    </tr>\n",
       "    <tr>\n",
       "      <th>4</th>\n",
       "      <td>5001715</td>\n",
       "      <td>1</td>\n",
       "    </tr>\n",
       "  </tbody>\n",
       "</table>\n",
       "</div>"
      ],
      "text/plain": [
       "        id  eligibility\n",
       "0  5001711            1\n",
       "1  5001712            1\n",
       "2  5001713            1\n",
       "3  5001714            1\n",
       "4  5001715            1"
      ]
     },
     "execution_count": 76,
     "metadata": {},
     "output_type": "execute_result"
    }
   ],
   "source": [
    "check_approval = check_approval[['id','eligibility']]\n",
    "check_approval.head()"
   ]
  },
  {
   "cell_type": "code",
   "execution_count": 77,
   "id": "055d2c8b",
   "metadata": {},
   "outputs": [],
   "source": [
    "## Merge the records DF and the cistomer details DF"
   ]
  },
  {
   "cell_type": "code",
   "execution_count": 78,
   "id": "9b68cbba",
   "metadata": {},
   "outputs": [
    {
     "data": {
      "text/html": [
       "<div>\n",
       "<style scoped>\n",
       "    .dataframe tbody tr th:only-of-type {\n",
       "        vertical-align: middle;\n",
       "    }\n",
       "\n",
       "    .dataframe tbody tr th {\n",
       "        vertical-align: top;\n",
       "    }\n",
       "\n",
       "    .dataframe thead th {\n",
       "        text-align: right;\n",
       "    }\n",
       "</style>\n",
       "<table border=\"1\" class=\"dataframe\">\n",
       "  <thead>\n",
       "    <tr style=\"text-align: right;\">\n",
       "      <th></th>\n",
       "      <th>id</th>\n",
       "      <th>code_gender</th>\n",
       "      <th>flag_own_car</th>\n",
       "      <th>flag_own_realty</th>\n",
       "      <th>cnt_children</th>\n",
       "      <th>name_income_type</th>\n",
       "      <th>name_education_type</th>\n",
       "      <th>name_family_status</th>\n",
       "      <th>name_housing_type</th>\n",
       "      <th>flag_mobil</th>\n",
       "      <th>occupation_type</th>\n",
       "      <th>flag_work_phone</th>\n",
       "      <th>flag_phone</th>\n",
       "      <th>flag_email</th>\n",
       "      <th>cnt_fam_members</th>\n",
       "      <th>age_years</th>\n",
       "      <th>months_employed</th>\n",
       "      <th>amt_income_total</th>\n",
       "      <th>eligibility</th>\n",
       "    </tr>\n",
       "  </thead>\n",
       "  <tbody>\n",
       "    <tr>\n",
       "      <th>0</th>\n",
       "      <td>5008804</td>\n",
       "      <td>1</td>\n",
       "      <td>1</td>\n",
       "      <td>1</td>\n",
       "      <td>0</td>\n",
       "      <td>1</td>\n",
       "      <td>2</td>\n",
       "      <td>1</td>\n",
       "      <td>1</td>\n",
       "      <td>1</td>\n",
       "      <td>5</td>\n",
       "      <td>1</td>\n",
       "      <td>0</td>\n",
       "      <td>0</td>\n",
       "      <td>2.0</td>\n",
       "      <td>0.26</td>\n",
       "      <td>0.012403</td>\n",
       "      <td>0.059697</td>\n",
       "      <td>0</td>\n",
       "    </tr>\n",
       "    <tr>\n",
       "      <th>1</th>\n",
       "      <td>5008805</td>\n",
       "      <td>1</td>\n",
       "      <td>1</td>\n",
       "      <td>1</td>\n",
       "      <td>0</td>\n",
       "      <td>1</td>\n",
       "      <td>2</td>\n",
       "      <td>1</td>\n",
       "      <td>1</td>\n",
       "      <td>1</td>\n",
       "      <td>5</td>\n",
       "      <td>1</td>\n",
       "      <td>0</td>\n",
       "      <td>0</td>\n",
       "      <td>2.0</td>\n",
       "      <td>0.26</td>\n",
       "      <td>0.012403</td>\n",
       "      <td>0.059697</td>\n",
       "      <td>0</td>\n",
       "    </tr>\n",
       "    <tr>\n",
       "      <th>2</th>\n",
       "      <td>5008812</td>\n",
       "      <td>0</td>\n",
       "      <td>0</td>\n",
       "      <td>1</td>\n",
       "      <td>0</td>\n",
       "      <td>3</td>\n",
       "      <td>2</td>\n",
       "      <td>4</td>\n",
       "      <td>2</td>\n",
       "      <td>1</td>\n",
       "      <td>7</td>\n",
       "      <td>0</td>\n",
       "      <td>0</td>\n",
       "      <td>0</td>\n",
       "      <td>1.0</td>\n",
       "      <td>0.84</td>\n",
       "      <td>1.000000</td>\n",
       "      <td>0.038281</td>\n",
       "      <td>1</td>\n",
       "    </tr>\n",
       "    <tr>\n",
       "      <th>3</th>\n",
       "      <td>5008813</td>\n",
       "      <td>0</td>\n",
       "      <td>0</td>\n",
       "      <td>1</td>\n",
       "      <td>0</td>\n",
       "      <td>3</td>\n",
       "      <td>2</td>\n",
       "      <td>4</td>\n",
       "      <td>2</td>\n",
       "      <td>1</td>\n",
       "      <td>7</td>\n",
       "      <td>0</td>\n",
       "      <td>0</td>\n",
       "      <td>0</td>\n",
       "      <td>1.0</td>\n",
       "      <td>0.84</td>\n",
       "      <td>1.000000</td>\n",
       "      <td>0.038281</td>\n",
       "      <td>1</td>\n",
       "    </tr>\n",
       "    <tr>\n",
       "      <th>4</th>\n",
       "      <td>5008814</td>\n",
       "      <td>0</td>\n",
       "      <td>0</td>\n",
       "      <td>1</td>\n",
       "      <td>0</td>\n",
       "      <td>3</td>\n",
       "      <td>2</td>\n",
       "      <td>4</td>\n",
       "      <td>2</td>\n",
       "      <td>1</td>\n",
       "      <td>7</td>\n",
       "      <td>0</td>\n",
       "      <td>0</td>\n",
       "      <td>0</td>\n",
       "      <td>1.0</td>\n",
       "      <td>0.84</td>\n",
       "      <td>1.000000</td>\n",
       "      <td>0.038281</td>\n",
       "      <td>1</td>\n",
       "    </tr>\n",
       "    <tr>\n",
       "      <th>5</th>\n",
       "      <td>5008834</td>\n",
       "      <td>0</td>\n",
       "      <td>0</td>\n",
       "      <td>1</td>\n",
       "      <td>1</td>\n",
       "      <td>1</td>\n",
       "      <td>3</td>\n",
       "      <td>3</td>\n",
       "      <td>2</td>\n",
       "      <td>1</td>\n",
       "      <td>11</td>\n",
       "      <td>0</td>\n",
       "      <td>0</td>\n",
       "      <td>0</td>\n",
       "      <td>2.0</td>\n",
       "      <td>0.20</td>\n",
       "      <td>0.004354</td>\n",
       "      <td>0.012850</td>\n",
       "      <td>1</td>\n",
       "    </tr>\n",
       "    <tr>\n",
       "      <th>6</th>\n",
       "      <td>5008835</td>\n",
       "      <td>0</td>\n",
       "      <td>0</td>\n",
       "      <td>1</td>\n",
       "      <td>1</td>\n",
       "      <td>1</td>\n",
       "      <td>3</td>\n",
       "      <td>3</td>\n",
       "      <td>2</td>\n",
       "      <td>1</td>\n",
       "      <td>11</td>\n",
       "      <td>0</td>\n",
       "      <td>0</td>\n",
       "      <td>0</td>\n",
       "      <td>2.0</td>\n",
       "      <td>0.20</td>\n",
       "      <td>0.004354</td>\n",
       "      <td>0.012850</td>\n",
       "      <td>1</td>\n",
       "    </tr>\n",
       "    <tr>\n",
       "      <th>7</th>\n",
       "      <td>5008884</td>\n",
       "      <td>0</td>\n",
       "      <td>0</td>\n",
       "      <td>1</td>\n",
       "      <td>0</td>\n",
       "      <td>3</td>\n",
       "      <td>3</td>\n",
       "      <td>5</td>\n",
       "      <td>2</td>\n",
       "      <td>1</td>\n",
       "      <td>11</td>\n",
       "      <td>0</td>\n",
       "      <td>0</td>\n",
       "      <td>0</td>\n",
       "      <td>1.0</td>\n",
       "      <td>0.72</td>\n",
       "      <td>1.000000</td>\n",
       "      <td>0.042966</td>\n",
       "      <td>1</td>\n",
       "    </tr>\n",
       "    <tr>\n",
       "      <th>8</th>\n",
       "      <td>5008951</td>\n",
       "      <td>1</td>\n",
       "      <td>0</td>\n",
       "      <td>1</td>\n",
       "      <td>1</td>\n",
       "      <td>1</td>\n",
       "      <td>3</td>\n",
       "      <td>2</td>\n",
       "      <td>2</td>\n",
       "      <td>1</td>\n",
       "      <td>4</td>\n",
       "      <td>0</td>\n",
       "      <td>0</td>\n",
       "      <td>0</td>\n",
       "      <td>3.0</td>\n",
       "      <td>0.16</td>\n",
       "      <td>0.007639</td>\n",
       "      <td>0.029581</td>\n",
       "      <td>1</td>\n",
       "    </tr>\n",
       "    <tr>\n",
       "      <th>9</th>\n",
       "      <td>5008952</td>\n",
       "      <td>1</td>\n",
       "      <td>0</td>\n",
       "      <td>1</td>\n",
       "      <td>1</td>\n",
       "      <td>1</td>\n",
       "      <td>3</td>\n",
       "      <td>2</td>\n",
       "      <td>2</td>\n",
       "      <td>1</td>\n",
       "      <td>4</td>\n",
       "      <td>0</td>\n",
       "      <td>0</td>\n",
       "      <td>0</td>\n",
       "      <td>3.0</td>\n",
       "      <td>0.16</td>\n",
       "      <td>0.007639</td>\n",
       "      <td>0.029581</td>\n",
       "      <td>1</td>\n",
       "    </tr>\n",
       "  </tbody>\n",
       "</table>\n",
       "</div>"
      ],
      "text/plain": [
       "        id  code_gender  flag_own_car  flag_own_realty  cnt_children  \\\n",
       "0  5008804            1             1                1             0   \n",
       "1  5008805            1             1                1             0   \n",
       "2  5008812            0             0                1             0   \n",
       "3  5008813            0             0                1             0   \n",
       "4  5008814            0             0                1             0   \n",
       "5  5008834            0             0                1             1   \n",
       "6  5008835            0             0                1             1   \n",
       "7  5008884            0             0                1             0   \n",
       "8  5008951            1             0                1             1   \n",
       "9  5008952            1             0                1             1   \n",
       "\n",
       "   name_income_type  name_education_type  name_family_status  \\\n",
       "0                 1                    2                   1   \n",
       "1                 1                    2                   1   \n",
       "2                 3                    2                   4   \n",
       "3                 3                    2                   4   \n",
       "4                 3                    2                   4   \n",
       "5                 1                    3                   3   \n",
       "6                 1                    3                   3   \n",
       "7                 3                    3                   5   \n",
       "8                 1                    3                   2   \n",
       "9                 1                    3                   2   \n",
       "\n",
       "   name_housing_type  flag_mobil  occupation_type  flag_work_phone  \\\n",
       "0                  1           1                5                1   \n",
       "1                  1           1                5                1   \n",
       "2                  2           1                7                0   \n",
       "3                  2           1                7                0   \n",
       "4                  2           1                7                0   \n",
       "5                  2           1               11                0   \n",
       "6                  2           1               11                0   \n",
       "7                  2           1               11                0   \n",
       "8                  2           1                4                0   \n",
       "9                  2           1                4                0   \n",
       "\n",
       "   flag_phone  flag_email  cnt_fam_members  age_years  months_employed  \\\n",
       "0           0           0              2.0       0.26         0.012403   \n",
       "1           0           0              2.0       0.26         0.012403   \n",
       "2           0           0              1.0       0.84         1.000000   \n",
       "3           0           0              1.0       0.84         1.000000   \n",
       "4           0           0              1.0       0.84         1.000000   \n",
       "5           0           0              2.0       0.20         0.004354   \n",
       "6           0           0              2.0       0.20         0.004354   \n",
       "7           0           0              1.0       0.72         1.000000   \n",
       "8           0           0              3.0       0.16         0.007639   \n",
       "9           0           0              3.0       0.16         0.007639   \n",
       "\n",
       "   amt_income_total  eligibility  \n",
       "0          0.059697            0  \n",
       "1          0.059697            0  \n",
       "2          0.038281            1  \n",
       "3          0.038281            1  \n",
       "4          0.038281            1  \n",
       "5          0.012850            1  \n",
       "6          0.012850            1  \n",
       "7          0.042966            1  \n",
       "8          0.029581            1  \n",
       "9          0.029581            1  "
      ]
     },
     "execution_count": 78,
     "metadata": {},
     "output_type": "execute_result"
    }
   ],
   "source": [
    "final_approval = pd.merge(data, check_approval, on = 'id', how = 'inner')\n",
    "final_approval.head(10)"
   ]
  },
  {
   "cell_type": "code",
   "execution_count": 79,
   "id": "2fe68d6e",
   "metadata": {},
   "outputs": [
    {
     "data": {
      "text/plain": [
       "Index(['id', 'code_gender', 'flag_own_car', 'flag_own_realty', 'cnt_children',\n",
       "       'name_income_type', 'name_education_type', 'name_family_status',\n",
       "       'name_housing_type', 'flag_mobil', 'occupation_type', 'flag_work_phone',\n",
       "       'flag_phone', 'flag_email', 'cnt_fam_members', 'age_years',\n",
       "       'months_employed', 'amt_income_total', 'eligibility'],\n",
       "      dtype='object')"
      ]
     },
     "execution_count": 79,
     "metadata": {},
     "output_type": "execute_result"
    }
   ],
   "source": [
    "# rename columns\n",
    "final_approval.columns"
   ]
  },
  {
   "cell_type": "code",
   "execution_count": 80,
   "id": "fa51c134",
   "metadata": {},
   "outputs": [
    {
     "data": {
      "text/plain": [
       "Index(['id', 'gender', 'own_car', 'property_owner', 'no_of_children',\n",
       "       'income_type', 'level_of_education', 'marital_status', 'housing_type',\n",
       "       'mobile', 'occupation_type', 'work_phone', 'flag_phone', 'email',\n",
       "       'no_of_dependants', 'age_years', 'months_employed', 'income',\n",
       "       'eligibility'],\n",
       "      dtype='object')"
      ]
     },
     "execution_count": 80,
     "metadata": {},
     "output_type": "execute_result"
    }
   ],
   "source": [
    "rename_dict = {'code_gender':'gender','flag_own_car':'own_car','flag_own_realty':'property_owner','cnt_children':'no_of_children','cnt_fam_members':\n",
    "'no_of_dependants','name_family_status':'marital_status','name_housing_type':'housing_type','flag_mobil':'mobile',\n",
    " 'flag_work_phone':'work_phone','flag_email':'email','name_education_type':'education_level',\n",
    " 'name_education_type':'level_of_education','name_income_type':'income_type','amt_income_total':'income'}\n",
    "final_approval = final_approval.rename(columns=rename_dict)\n",
    "final_approval.columns"
   ]
  },
  {
   "cell_type": "code",
   "execution_count": 81,
   "id": "e18f137d",
   "metadata": {},
   "outputs": [
    {
     "data": {
      "text/plain": [
       "id                    0.0\n",
       "gender                0.0\n",
       "own_car               0.0\n",
       "property_owner        0.0\n",
       "no_of_children        0.0\n",
       "income_type           0.0\n",
       "level_of_education    0.0\n",
       "marital_status        0.0\n",
       "housing_type          0.0\n",
       "mobile                0.0\n",
       "occupation_type       0.0\n",
       "work_phone            0.0\n",
       "flag_phone            0.0\n",
       "email                 0.0\n",
       "no_of_dependants      0.0\n",
       "age_years             0.0\n",
       "months_employed       0.0\n",
       "income                0.0\n",
       "eligibility           0.0\n",
       "dtype: float64"
      ]
     },
     "execution_count": 81,
     "metadata": {},
     "output_type": "execute_result"
    }
   ],
   "source": [
    "final_approval.isna().sum()/len(final_approval)"
   ]
  },
  {
   "cell_type": "code",
   "execution_count": 82,
   "id": "656abaac",
   "metadata": {},
   "outputs": [],
   "source": [
    "# drop flag phone column as we already have mobile and work phones column\n",
    "final_approval = final_approval.drop('flag_phone', axis=1)"
   ]
  },
  {
   "cell_type": "code",
   "execution_count": 83,
   "id": "acbaac24",
   "metadata": {},
   "outputs": [
    {
     "data": {
      "text/plain": [
       "id                      int64\n",
       "gender                  int64\n",
       "own_car                 int64\n",
       "property_owner          int64\n",
       "no_of_children          int64\n",
       "income_type             int64\n",
       "level_of_education      int64\n",
       "marital_status          int64\n",
       "housing_type            int64\n",
       "mobile                  int64\n",
       "occupation_type         int64\n",
       "work_phone              int64\n",
       "email                   int64\n",
       "no_of_dependants      float64\n",
       "age_years             float64\n",
       "months_employed       float64\n",
       "income                float64\n",
       "eligibility             int32\n",
       "dtype: object"
      ]
     },
     "execution_count": 83,
     "metadata": {},
     "output_type": "execute_result"
    }
   ],
   "source": [
    "# check data types\n",
    "# We dont want any object types. We already did transformations\n",
    "final_approval.dtypes"
   ]
  },
  {
   "cell_type": "code",
   "execution_count": 84,
   "id": "76cc1bc3",
   "metadata": {},
   "outputs": [
    {
     "data": {
      "text/plain": [
       "Index(['id', 'gender', 'age_years', 'marital_status', 'no_of_children',\n",
       "       'no_of_dependants', 'level_of_education', 'income_type',\n",
       "       'occupation_type', 'housing_type', 'property_owner', 'mobile',\n",
       "       'work_phone', 'email', 'months_employed', 'income', 'eligibility'],\n",
       "      dtype='object')"
      ]
     },
     "execution_count": 84,
     "metadata": {},
     "output_type": "execute_result"
    }
   ],
   "source": [
    "# Reorganize our pandas dataframe column in a sequence that would make sense on a user-facing form\n",
    "final_approval = final_approval[['id','gender','age_years','marital_status','no_of_children','no_of_dependants',\n",
    "            'level_of_education','income_type','occupation_type','housing_type','property_owner','mobile','work_phone','email',\n",
    "                                 'months_employed','income','eligibility']]\n",
    "final_approval.columns"
   ]
  },
  {
   "cell_type": "code",
   "execution_count": 85,
   "id": "6c05e674",
   "metadata": {},
   "outputs": [
    {
     "data": {
      "text/html": [
       "<div>\n",
       "<style scoped>\n",
       "    .dataframe tbody tr th:only-of-type {\n",
       "        vertical-align: middle;\n",
       "    }\n",
       "\n",
       "    .dataframe tbody tr th {\n",
       "        vertical-align: top;\n",
       "    }\n",
       "\n",
       "    .dataframe thead th {\n",
       "        text-align: right;\n",
       "    }\n",
       "</style>\n",
       "<table border=\"1\" class=\"dataframe\">\n",
       "  <thead>\n",
       "    <tr style=\"text-align: right;\">\n",
       "      <th></th>\n",
       "      <th>id</th>\n",
       "      <th>gender</th>\n",
       "      <th>age_years</th>\n",
       "      <th>marital_status</th>\n",
       "      <th>no_of_children</th>\n",
       "      <th>no_of_dependants</th>\n",
       "      <th>level_of_education</th>\n",
       "      <th>income_type</th>\n",
       "      <th>occupation_type</th>\n",
       "      <th>housing_type</th>\n",
       "      <th>property_owner</th>\n",
       "      <th>mobile</th>\n",
       "      <th>work_phone</th>\n",
       "      <th>email</th>\n",
       "      <th>months_employed</th>\n",
       "      <th>income</th>\n",
       "      <th>eligibility</th>\n",
       "    </tr>\n",
       "  </thead>\n",
       "  <tbody>\n",
       "    <tr>\n",
       "      <th>0</th>\n",
       "      <td>5008804</td>\n",
       "      <td>1</td>\n",
       "      <td>0.26</td>\n",
       "      <td>1</td>\n",
       "      <td>0</td>\n",
       "      <td>2.0</td>\n",
       "      <td>2</td>\n",
       "      <td>1</td>\n",
       "      <td>5</td>\n",
       "      <td>1</td>\n",
       "      <td>1</td>\n",
       "      <td>1</td>\n",
       "      <td>1</td>\n",
       "      <td>0</td>\n",
       "      <td>0.012403</td>\n",
       "      <td>0.059697</td>\n",
       "      <td>0</td>\n",
       "    </tr>\n",
       "    <tr>\n",
       "      <th>1</th>\n",
       "      <td>5008805</td>\n",
       "      <td>1</td>\n",
       "      <td>0.26</td>\n",
       "      <td>1</td>\n",
       "      <td>0</td>\n",
       "      <td>2.0</td>\n",
       "      <td>2</td>\n",
       "      <td>1</td>\n",
       "      <td>5</td>\n",
       "      <td>1</td>\n",
       "      <td>1</td>\n",
       "      <td>1</td>\n",
       "      <td>1</td>\n",
       "      <td>0</td>\n",
       "      <td>0.012403</td>\n",
       "      <td>0.059697</td>\n",
       "      <td>0</td>\n",
       "    </tr>\n",
       "    <tr>\n",
       "      <th>2</th>\n",
       "      <td>5008812</td>\n",
       "      <td>0</td>\n",
       "      <td>0.84</td>\n",
       "      <td>4</td>\n",
       "      <td>0</td>\n",
       "      <td>1.0</td>\n",
       "      <td>2</td>\n",
       "      <td>3</td>\n",
       "      <td>7</td>\n",
       "      <td>2</td>\n",
       "      <td>1</td>\n",
       "      <td>1</td>\n",
       "      <td>0</td>\n",
       "      <td>0</td>\n",
       "      <td>1.000000</td>\n",
       "      <td>0.038281</td>\n",
       "      <td>1</td>\n",
       "    </tr>\n",
       "    <tr>\n",
       "      <th>3</th>\n",
       "      <td>5008813</td>\n",
       "      <td>0</td>\n",
       "      <td>0.84</td>\n",
       "      <td>4</td>\n",
       "      <td>0</td>\n",
       "      <td>1.0</td>\n",
       "      <td>2</td>\n",
       "      <td>3</td>\n",
       "      <td>7</td>\n",
       "      <td>2</td>\n",
       "      <td>1</td>\n",
       "      <td>1</td>\n",
       "      <td>0</td>\n",
       "      <td>0</td>\n",
       "      <td>1.000000</td>\n",
       "      <td>0.038281</td>\n",
       "      <td>1</td>\n",
       "    </tr>\n",
       "    <tr>\n",
       "      <th>4</th>\n",
       "      <td>5008814</td>\n",
       "      <td>0</td>\n",
       "      <td>0.84</td>\n",
       "      <td>4</td>\n",
       "      <td>0</td>\n",
       "      <td>1.0</td>\n",
       "      <td>2</td>\n",
       "      <td>3</td>\n",
       "      <td>7</td>\n",
       "      <td>2</td>\n",
       "      <td>1</td>\n",
       "      <td>1</td>\n",
       "      <td>0</td>\n",
       "      <td>0</td>\n",
       "      <td>1.000000</td>\n",
       "      <td>0.038281</td>\n",
       "      <td>1</td>\n",
       "    </tr>\n",
       "  </tbody>\n",
       "</table>\n",
       "</div>"
      ],
      "text/plain": [
       "        id  gender  age_years  marital_status  no_of_children  \\\n",
       "0  5008804       1       0.26               1               0   \n",
       "1  5008805       1       0.26               1               0   \n",
       "2  5008812       0       0.84               4               0   \n",
       "3  5008813       0       0.84               4               0   \n",
       "4  5008814       0       0.84               4               0   \n",
       "\n",
       "   no_of_dependants  level_of_education  income_type  occupation_type  \\\n",
       "0               2.0                   2            1                5   \n",
       "1               2.0                   2            1                5   \n",
       "2               1.0                   2            3                7   \n",
       "3               1.0                   2            3                7   \n",
       "4               1.0                   2            3                7   \n",
       "\n",
       "   housing_type  property_owner  mobile  work_phone  email  months_employed  \\\n",
       "0             1               1       1           1      0         0.012403   \n",
       "1             1               1       1           1      0         0.012403   \n",
       "2             2               1       1           0      0         1.000000   \n",
       "3             2               1       1           0      0         1.000000   \n",
       "4             2               1       1           0      0         1.000000   \n",
       "\n",
       "     income  eligibility  \n",
       "0  0.059697            0  \n",
       "1  0.059697            0  \n",
       "2  0.038281            1  \n",
       "3  0.038281            1  \n",
       "4  0.038281            1  "
      ]
     },
     "execution_count": 85,
     "metadata": {},
     "output_type": "execute_result"
    }
   ],
   "source": [
    "final_approval.head()"
   ]
  },
  {
   "cell_type": "markdown",
   "id": "45783803",
   "metadata": {},
   "source": [
    "## <a name=\"eligibility_ml\"> </a> Eligibility ML model"
   ]
  },
  {
   "cell_type": "markdown",
   "id": "86f1f55b",
   "metadata": {},
   "source": [
    "### There is a massive imbalance in our target variable\n",
    "### I use SMOTE to treat the imbalance"
   ]
  },
  {
   "cell_type": "code",
   "execution_count": 86,
   "id": "c4e8195f",
   "metadata": {},
   "outputs": [
    {
     "data": {
      "text/plain": [
       "1    32166\n",
       "0     4291\n",
       "Name: eligibility, dtype: int64"
      ]
     },
     "execution_count": 86,
     "metadata": {},
     "output_type": "execute_result"
    }
   ],
   "source": [
    "final_approval['eligibility'].value_counts()"
   ]
  },
  {
   "cell_type": "code",
   "execution_count": 87,
   "id": "7269a9cc",
   "metadata": {},
   "outputs": [
    {
     "name": "stderr",
     "output_type": "stream",
     "text": [
      "C:\\Users\\KIMERA\\.conda\\envs\\data_engineering\\lib\\site-packages\\xgboost\\sklearn.py:1224: UserWarning: The use of label encoder in XGBClassifier is deprecated and will be removed in a future release. To remove this warning, do the following: 1) Pass option use_label_encoder=False when constructing XGBClassifier object; and 2) Encode your labels (y) as integers starting with 0, i.e. 0, 1, 2, ..., [num_class - 1].\n",
      "  warnings.warn(label_encoder_deprecation_msg, UserWarning)\n",
      "C:\\Users\\KIMERA\\.conda\\envs\\data_engineering\\lib\\site-packages\\xgboost\\data.py:262: FutureWarning: pandas.Int64Index is deprecated and will be removed from pandas in a future version. Use pandas.Index with the appropriate dtype instead.\n",
      "  elif isinstance(data.columns, (pd.Int64Index, pd.RangeIndex)):\n"
     ]
    },
    {
     "name": "stdout",
     "output_type": "stream",
     "text": [
      "[10:47:55] WARNING: C:/Users/Administrator/workspace/xgboost-win64_release_1.5.1/src/learner.cc:1115: Starting in XGBoost 1.3.0, the default evaluation metric used with the objective 'binary:logistic' was changed from 'error' to 'logloss'. Explicitly set eval_metric if you'd like to restore the old behavior.\n",
      "score:  0.8984358301758477\n",
      "accuracy: 0.8807025724722157\n",
      "precision:  0.8473096737263881\n",
      "recall:  0.9267491000156519\n",
      "f1:  0.8852508036181507\n",
      "RMSE :  0.34539459684219764\n"
     ]
    },
    {
     "name": "stderr",
     "output_type": "stream",
     "text": [
      "C:\\Users\\KIMERA\\.conda\\envs\\data_engineering\\lib\\site-packages\\xgboost\\data.py:262: FutureWarning: pandas.Int64Index is deprecated and will be removed from pandas in a future version. Use pandas.Index with the appropriate dtype instead.\n",
      "  elif isinstance(data.columns, (pd.Int64Index, pd.RangeIndex)):\n"
     ]
    },
    {
     "data": {
      "image/png": "[encoded data removed]",
      "text/plain": [
       "<Figure size 1080x360 with 2 Axes>"
      ]
     },
     "metadata": {},
     "output_type": "display_data"
    }
   ],
   "source": [
    "# XGB Classifier with SMOTE balancing has shown the best results\n",
    "# the id column is nolonger needed\n",
    "X = final_approval.drop(['eligibility','id'],axis=1)\n",
    "y = final_approval['eligibility']\n",
    "\n",
    "sm = SMOTE(random_state=69,k_neighbors=4)\n",
    "X_SMOTE,y_SMOTE = sm.fit_resample(X,y)\n",
    "X_train, X_test, y_train, y_test = train_test_split(X_SMOTE, y_SMOTE, test_size = 0.2, random_state=37)\n",
    "\n",
    "xgbc = XGBClassifier()\n",
    "\n",
    "xgbc.fit(X_train, y_train)\n",
    "score = xgbc.score(X_train, y_train)\n",
    "y_pred = xgbc.predict(X_test)\n",
    "\n",
    "RMSE = mean_squared_error(y_test, y_pred, squared=False)\n",
    "\n",
    "print('score: ', score)\n",
    "print('accuracy:', accuracy_score(y_test, y_pred))\n",
    "print(\"precision: \",precision_score(y_test,y_pred))\n",
    "print(\"recall: \",recall_score(y_test,y_pred))\n",
    "print(\"f1: \",f1_score(y_test,y_pred))\n",
    "print('RMSE : ', RMSE)\n",
    "plot_confusion_matrix(xgbc, X_test, y_test)  \n",
    "plt.show()"
   ]
  },
  {
   "cell_type": "markdown",
   "id": "bc6633cd",
   "metadata": {},
   "source": [
    "## <a name=\"model_tx\"> </a> Saving ML model and Transformer"
   ]
  },
  {
   "cell_type": "markdown",
   "id": "8ea486b7",
   "metadata": {},
   "source": [
    "#### Save our model"
   ]
  },
  {
   "cell_type": "code",
   "execution_count": 88,
   "id": "43712183",
   "metadata": {},
   "outputs": [
    {
     "name": "stdout",
     "output_type": "stream",
     "text": [
      "0.8807025724722157\n"
     ]
    }
   ],
   "source": [
    "import pickle\n",
    "\n",
    "# save the model to disk\n",
    "filename = 'finalized_model.pkl'\n",
    "pickle.dump(xgbc, open(filename, 'wb'))\n",
    " \n",
    "#load the model from disk\n",
    "loaded_model = pickle.load(open(filename, 'rb'))\n",
    "result = loaded_model.score(X_test, y_test)\n",
    "print(result)"
   ]
  },
  {
   "cell_type": "markdown",
   "id": "6eec260e",
   "metadata": {},
   "source": [
    "#### Save our Transformer"
   ]
  },
  {
   "cell_type": "code",
   "execution_count": 89,
   "id": "adfc327f",
   "metadata": {},
   "outputs": [],
   "source": [
    "import joblib\n",
    "joblib.dump(scaler, 'scaler.gz')\n",
    "my_scaler = joblib.load('scaler.gz')"
   ]
  },
  {
   "cell_type": "code",
   "execution_count": 90,
   "id": "b0d982b5",
   "metadata": {},
   "outputs": [],
   "source": [
    "### TRAIN ANOTHER MODEL TO PROVIDE THE PROBABILITY OF DEFAULT\n",
    "### USE THE 'criteria'  COLUMN FROM THE check_approval DATAFRAME AS YOUR TARGET\n",
    "### BANK OFFICIAL ASKS FOR MORE INFORMATION"
   ]
  },
  {
   "cell_type": "code",
   "execution_count": null,
   "id": "d4879b8b",
   "metadata": {},
   "outputs": [],
   "source": []
  }
 ],
 "metadata": {
  "kernelspec": {
   "display_name": "Python 3 (ipykernel)",
   "language": "python",
   "name": "python3"
  },
  "language_info": {
   "codemirror_mode": {
    "name": "ipython",
    "version": 3
   },
   "file_extension": ".py",
   "mimetype": "text/x-python",
   "name": "python",
   "nbconvert_exporter": "python",
   "pygments_lexer": "ipython3",
   "version": "3.8.12"
  }
 },
 "nbformat": 4,
 "nbformat_minor": 5
}
